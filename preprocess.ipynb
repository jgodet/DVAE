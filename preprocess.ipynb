{
 "cells": [
  {
   "cell_type": "code",
   "execution_count": 2,
   "metadata": {},
   "outputs": [],
   "source": [
    "import pandas as pd\n",
    "import torch\n",
    "from torch.utils.data import Dataset, DataLoader\n",
    "from custom_data_set_class import CustomDataset\n",
    "import numpy as np\n",
    "import sys\n",
    "sys.path.append('../one_hot_module_repo')\n",
    "\n",
    "from one_hot_module.one_hot_module import OneHotManager\n",
    "\n"
   ]
  },
  {
   "cell_type": "code",
   "execution_count": 3,
   "metadata": {},
   "outputs": [
    {
     "name": "stdout",
     "output_type": "stream",
     "text": [
      "Name of the last column: ptid\n"
     ]
    }
   ],
   "source": [
    "\n",
    "csv_file_path = \"rhc.csv\"\n",
    "dataset = CustomDataset(csv_file_path)\n"
   ]
  },
  {
   "cell_type": "code",
   "execution_count": 4,
   "metadata": {},
   "outputs": [
    {
     "data": {
      "text/html": [
       "<div>\n",
       "<style scoped>\n",
       "    .dataframe tbody tr th:only-of-type {\n",
       "        vertical-align: middle;\n",
       "    }\n",
       "\n",
       "    .dataframe tbody tr th {\n",
       "        vertical-align: top;\n",
       "    }\n",
       "\n",
       "    .dataframe thead th {\n",
       "        text-align: right;\n",
       "    }\n",
       "</style>\n",
       "<table border=\"1\" class=\"dataframe\">\n",
       "  <thead>\n",
       "    <tr style=\"text-align: right;\">\n",
       "      <th></th>\n",
       "      <th>Unnamed: 0</th>\n",
       "      <th>cat1</th>\n",
       "      <th>cat2</th>\n",
       "      <th>ca</th>\n",
       "      <th>sadmdte</th>\n",
       "      <th>dschdte</th>\n",
       "      <th>dthdte</th>\n",
       "      <th>lstctdte</th>\n",
       "      <th>death</th>\n",
       "      <th>cardiohx</th>\n",
       "      <th>...</th>\n",
       "      <th>meta</th>\n",
       "      <th>hema</th>\n",
       "      <th>seps</th>\n",
       "      <th>trauma</th>\n",
       "      <th>ortho</th>\n",
       "      <th>adld3p</th>\n",
       "      <th>urin1</th>\n",
       "      <th>race</th>\n",
       "      <th>income</th>\n",
       "      <th>ptid</th>\n",
       "    </tr>\n",
       "  </thead>\n",
       "  <tbody>\n",
       "    <tr>\n",
       "      <th>0</th>\n",
       "      <td>1</td>\n",
       "      <td>COPD</td>\n",
       "      <td>NaN</td>\n",
       "      <td>Yes</td>\n",
       "      <td>11142</td>\n",
       "      <td>11151.0</td>\n",
       "      <td>NaN</td>\n",
       "      <td>11382</td>\n",
       "      <td>No</td>\n",
       "      <td>0</td>\n",
       "      <td>...</td>\n",
       "      <td>No</td>\n",
       "      <td>No</td>\n",
       "      <td>No</td>\n",
       "      <td>No</td>\n",
       "      <td>No</td>\n",
       "      <td>0.0</td>\n",
       "      <td>NaN</td>\n",
       "      <td>white</td>\n",
       "      <td>Under $11k</td>\n",
       "      <td>5</td>\n",
       "    </tr>\n",
       "    <tr>\n",
       "      <th>1</th>\n",
       "      <td>2</td>\n",
       "      <td>MOSF w/Sepsis</td>\n",
       "      <td>NaN</td>\n",
       "      <td>No</td>\n",
       "      <td>11799</td>\n",
       "      <td>11844.0</td>\n",
       "      <td>11844.0</td>\n",
       "      <td>11844</td>\n",
       "      <td>Yes</td>\n",
       "      <td>1</td>\n",
       "      <td>...</td>\n",
       "      <td>No</td>\n",
       "      <td>No</td>\n",
       "      <td>Yes</td>\n",
       "      <td>No</td>\n",
       "      <td>No</td>\n",
       "      <td>NaN</td>\n",
       "      <td>1437.0</td>\n",
       "      <td>white</td>\n",
       "      <td>Under $11k</td>\n",
       "      <td>7</td>\n",
       "    </tr>\n",
       "    <tr>\n",
       "      <th>2</th>\n",
       "      <td>3</td>\n",
       "      <td>MOSF w/Malignancy</td>\n",
       "      <td>MOSF w/Sepsis</td>\n",
       "      <td>Yes</td>\n",
       "      <td>12083</td>\n",
       "      <td>12143.0</td>\n",
       "      <td>NaN</td>\n",
       "      <td>12400</td>\n",
       "      <td>No</td>\n",
       "      <td>0</td>\n",
       "      <td>...</td>\n",
       "      <td>No</td>\n",
       "      <td>No</td>\n",
       "      <td>No</td>\n",
       "      <td>No</td>\n",
       "      <td>No</td>\n",
       "      <td>NaN</td>\n",
       "      <td>599.0</td>\n",
       "      <td>white</td>\n",
       "      <td>$25-$50k</td>\n",
       "      <td>9</td>\n",
       "    </tr>\n",
       "    <tr>\n",
       "      <th>3</th>\n",
       "      <td>4</td>\n",
       "      <td>ARF</td>\n",
       "      <td>NaN</td>\n",
       "      <td>No</td>\n",
       "      <td>11146</td>\n",
       "      <td>11183.0</td>\n",
       "      <td>11183.0</td>\n",
       "      <td>11182</td>\n",
       "      <td>Yes</td>\n",
       "      <td>0</td>\n",
       "      <td>...</td>\n",
       "      <td>No</td>\n",
       "      <td>No</td>\n",
       "      <td>No</td>\n",
       "      <td>No</td>\n",
       "      <td>No</td>\n",
       "      <td>NaN</td>\n",
       "      <td>NaN</td>\n",
       "      <td>white</td>\n",
       "      <td>$11-$25k</td>\n",
       "      <td>10</td>\n",
       "    </tr>\n",
       "    <tr>\n",
       "      <th>4</th>\n",
       "      <td>5</td>\n",
       "      <td>MOSF w/Sepsis</td>\n",
       "      <td>NaN</td>\n",
       "      <td>No</td>\n",
       "      <td>12035</td>\n",
       "      <td>12037.0</td>\n",
       "      <td>12037.0</td>\n",
       "      <td>12036</td>\n",
       "      <td>Yes</td>\n",
       "      <td>0</td>\n",
       "      <td>...</td>\n",
       "      <td>No</td>\n",
       "      <td>No</td>\n",
       "      <td>No</td>\n",
       "      <td>No</td>\n",
       "      <td>No</td>\n",
       "      <td>NaN</td>\n",
       "      <td>64.0</td>\n",
       "      <td>white</td>\n",
       "      <td>Under $11k</td>\n",
       "      <td>11</td>\n",
       "    </tr>\n",
       "  </tbody>\n",
       "</table>\n",
       "<p>5 rows × 63 columns</p>\n",
       "</div>"
      ],
      "text/plain": [
       "   Unnamed: 0               cat1           cat2   ca  sadmdte  dschdte  \\\n",
       "0           1               COPD            NaN  Yes    11142  11151.0   \n",
       "1           2      MOSF w/Sepsis            NaN   No    11799  11844.0   \n",
       "2           3  MOSF w/Malignancy  MOSF w/Sepsis  Yes    12083  12143.0   \n",
       "3           4                ARF            NaN   No    11146  11183.0   \n",
       "4           5      MOSF w/Sepsis            NaN   No    12035  12037.0   \n",
       "\n",
       "    dthdte  lstctdte death  cardiohx  ...  meta  hema  seps  trauma  ortho  \\\n",
       "0      NaN     11382    No         0  ...    No    No    No      No     No   \n",
       "1  11844.0     11844   Yes         1  ...    No    No   Yes      No     No   \n",
       "2      NaN     12400    No         0  ...    No    No    No      No     No   \n",
       "3  11183.0     11182   Yes         0  ...    No    No    No      No     No   \n",
       "4  12037.0     12036   Yes         0  ...    No    No    No      No     No   \n",
       "\n",
       "   adld3p   urin1   race      income  ptid  \n",
       "0     0.0     NaN  white  Under $11k     5  \n",
       "1     NaN  1437.0  white  Under $11k     7  \n",
       "2     NaN   599.0  white    $25-$50k     9  \n",
       "3     NaN     NaN  white    $11-$25k    10  \n",
       "4     NaN    64.0  white  Under $11k    11  \n",
       "\n",
       "[5 rows x 63 columns]"
      ]
     },
     "execution_count": 4,
     "metadata": {},
     "output_type": "execute_result"
    }
   ],
   "source": [
    "df = dataset.data\n",
    "df.head()\n",
    "\n",
    "\n",
    "\n",
    "\n"
   ]
  },
  {
   "cell_type": "code",
   "execution_count": 5,
   "metadata": {},
   "outputs": [],
   "source": [
    "df = df.fillna('Missing_Data')\n",
    "\n",
    "\n",
    "\n",
    "my_column_manager = OneHotManager(df, inplace = True)"
   ]
  },
  {
   "cell_type": "code",
   "execution_count": 6,
   "metadata": {},
   "outputs": [
    {
     "data": {
      "text/html": [
       "<div>\n",
       "<style scoped>\n",
       "    .dataframe tbody tr th:only-of-type {\n",
       "        vertical-align: middle;\n",
       "    }\n",
       "\n",
       "    .dataframe tbody tr th {\n",
       "        vertical-align: top;\n",
       "    }\n",
       "\n",
       "    .dataframe thead th {\n",
       "        text-align: right;\n",
       "    }\n",
       "</style>\n",
       "<table border=\"1\" class=\"dataframe\">\n",
       "  <thead>\n",
       "    <tr style=\"text-align: right;\">\n",
       "      <th></th>\n",
       "      <th>Unnamed: 0</th>\n",
       "      <th>cat1</th>\n",
       "      <th>cat2</th>\n",
       "      <th>ca</th>\n",
       "      <th>sadmdte</th>\n",
       "      <th>dschdte</th>\n",
       "      <th>dthdte</th>\n",
       "      <th>lstctdte</th>\n",
       "      <th>death</th>\n",
       "      <th>cardiohx</th>\n",
       "      <th>chfhx</th>\n",
       "      <th>dementhx</th>\n",
       "      <th>psychhx</th>\n",
       "      <th>chrpulhx</th>\n",
       "      <th>renalhx</th>\n",
       "      <th>liverhx</th>\n",
       "      <th>gibledhx</th>\n",
       "      <th>malighx</th>\n",
       "      <th>immunhx</th>\n",
       "      <th>transhx</th>\n",
       "    </tr>\n",
       "  </thead>\n",
       "  <tbody>\n",
       "    <tr>\n",
       "      <th>0</th>\n",
       "      <td>1</td>\n",
       "      <td>COPD</td>\n",
       "      <td>Missing_Data</td>\n",
       "      <td>Yes</td>\n",
       "      <td>11142</td>\n",
       "      <td>11151.0</td>\n",
       "      <td>Missing_Data</td>\n",
       "      <td>11382</td>\n",
       "      <td>No</td>\n",
       "      <td>0</td>\n",
       "      <td>0</td>\n",
       "      <td>0</td>\n",
       "      <td>0</td>\n",
       "      <td>1</td>\n",
       "      <td>0</td>\n",
       "      <td>0</td>\n",
       "      <td>0</td>\n",
       "      <td>1</td>\n",
       "      <td>0</td>\n",
       "      <td>0</td>\n",
       "    </tr>\n",
       "    <tr>\n",
       "      <th>1</th>\n",
       "      <td>2</td>\n",
       "      <td>MOSF w/Sepsis</td>\n",
       "      <td>Missing_Data</td>\n",
       "      <td>No</td>\n",
       "      <td>11799</td>\n",
       "      <td>11844.0</td>\n",
       "      <td>11844.0</td>\n",
       "      <td>11844</td>\n",
       "      <td>Yes</td>\n",
       "      <td>1</td>\n",
       "      <td>1</td>\n",
       "      <td>0</td>\n",
       "      <td>0</td>\n",
       "      <td>0</td>\n",
       "      <td>0</td>\n",
       "      <td>0</td>\n",
       "      <td>0</td>\n",
       "      <td>0</td>\n",
       "      <td>1</td>\n",
       "      <td>1</td>\n",
       "    </tr>\n",
       "    <tr>\n",
       "      <th>2</th>\n",
       "      <td>3</td>\n",
       "      <td>MOSF w/Malignancy</td>\n",
       "      <td>MOSF w/Sepsis</td>\n",
       "      <td>Yes</td>\n",
       "      <td>12083</td>\n",
       "      <td>12143.0</td>\n",
       "      <td>Missing_Data</td>\n",
       "      <td>12400</td>\n",
       "      <td>No</td>\n",
       "      <td>0</td>\n",
       "      <td>0</td>\n",
       "      <td>0</td>\n",
       "      <td>0</td>\n",
       "      <td>0</td>\n",
       "      <td>0</td>\n",
       "      <td>0</td>\n",
       "      <td>0</td>\n",
       "      <td>1</td>\n",
       "      <td>1</td>\n",
       "      <td>0</td>\n",
       "    </tr>\n",
       "    <tr>\n",
       "      <th>3</th>\n",
       "      <td>4</td>\n",
       "      <td>ARF</td>\n",
       "      <td>Missing_Data</td>\n",
       "      <td>No</td>\n",
       "      <td>11146</td>\n",
       "      <td>11183.0</td>\n",
       "      <td>11183.0</td>\n",
       "      <td>11182</td>\n",
       "      <td>Yes</td>\n",
       "      <td>0</td>\n",
       "      <td>0</td>\n",
       "      <td>0</td>\n",
       "      <td>0</td>\n",
       "      <td>0</td>\n",
       "      <td>0</td>\n",
       "      <td>0</td>\n",
       "      <td>0</td>\n",
       "      <td>0</td>\n",
       "      <td>1</td>\n",
       "      <td>0</td>\n",
       "    </tr>\n",
       "    <tr>\n",
       "      <th>4</th>\n",
       "      <td>5</td>\n",
       "      <td>MOSF w/Sepsis</td>\n",
       "      <td>Missing_Data</td>\n",
       "      <td>No</td>\n",
       "      <td>12035</td>\n",
       "      <td>12037.0</td>\n",
       "      <td>12037.0</td>\n",
       "      <td>12036</td>\n",
       "      <td>Yes</td>\n",
       "      <td>0</td>\n",
       "      <td>0</td>\n",
       "      <td>0</td>\n",
       "      <td>0</td>\n",
       "      <td>0</td>\n",
       "      <td>0</td>\n",
       "      <td>0</td>\n",
       "      <td>0</td>\n",
       "      <td>0</td>\n",
       "      <td>0</td>\n",
       "      <td>0</td>\n",
       "    </tr>\n",
       "  </tbody>\n",
       "</table>\n",
       "</div>"
      ],
      "text/plain": [
       "   Unnamed: 0               cat1           cat2   ca  sadmdte  dschdte  \\\n",
       "0           1               COPD   Missing_Data  Yes    11142  11151.0   \n",
       "1           2      MOSF w/Sepsis   Missing_Data   No    11799  11844.0   \n",
       "2           3  MOSF w/Malignancy  MOSF w/Sepsis  Yes    12083  12143.0   \n",
       "3           4                ARF   Missing_Data   No    11146  11183.0   \n",
       "4           5      MOSF w/Sepsis   Missing_Data   No    12035  12037.0   \n",
       "\n",
       "         dthdte  lstctdte death  cardiohx  chfhx  dementhx  psychhx  chrpulhx  \\\n",
       "0  Missing_Data     11382    No         0      0         0        0         1   \n",
       "1       11844.0     11844   Yes         1      1         0        0         0   \n",
       "2  Missing_Data     12400    No         0      0         0        0         0   \n",
       "3       11183.0     11182   Yes         0      0         0        0         0   \n",
       "4       12037.0     12036   Yes         0      0         0        0         0   \n",
       "\n",
       "   renalhx  liverhx  gibledhx  malighx  immunhx  transhx  \n",
       "0        0        0         0        1        0        0  \n",
       "1        0        0         0        0        1        1  \n",
       "2        0        0         0        1        1        0  \n",
       "3        0        0         0        0        1        0  \n",
       "4        0        0         0        0        0        0  "
      ]
     },
     "execution_count": 6,
     "metadata": {},
     "output_type": "execute_result"
    }
   ],
   "source": [
    "#  split the dataset in columns for visualisation : \n",
    "columns_0_19 = df.iloc[:, 0:20] \n",
    "\n",
    "columns_0_19.head()"
   ]
  },
  {
   "cell_type": "code",
   "execution_count": 7,
   "metadata": {},
   "outputs": [
    {
     "data": {
      "text/html": [
       "<div>\n",
       "<style scoped>\n",
       "    .dataframe tbody tr th:only-of-type {\n",
       "        vertical-align: middle;\n",
       "    }\n",
       "\n",
       "    .dataframe tbody tr th {\n",
       "        vertical-align: top;\n",
       "    }\n",
       "\n",
       "    .dataframe thead th {\n",
       "        text-align: right;\n",
       "    }\n",
       "</style>\n",
       "<table border=\"1\" class=\"dataframe\">\n",
       "  <thead>\n",
       "    <tr style=\"text-align: right;\">\n",
       "      <th></th>\n",
       "      <th>amihx</th>\n",
       "      <th>age</th>\n",
       "      <th>sex</th>\n",
       "      <th>edu</th>\n",
       "      <th>surv2md1</th>\n",
       "      <th>das2d3pc</th>\n",
       "      <th>t3d30</th>\n",
       "      <th>dth30</th>\n",
       "      <th>aps1</th>\n",
       "      <th>scoma1</th>\n",
       "      <th>meanbp1</th>\n",
       "      <th>wblc1</th>\n",
       "      <th>hrt1</th>\n",
       "      <th>resp1</th>\n",
       "      <th>temp1</th>\n",
       "      <th>pafi1</th>\n",
       "      <th>alb1</th>\n",
       "      <th>hema1</th>\n",
       "      <th>bili1</th>\n",
       "      <th>crea1</th>\n",
       "    </tr>\n",
       "  </thead>\n",
       "  <tbody>\n",
       "    <tr>\n",
       "      <th>0</th>\n",
       "      <td>0</td>\n",
       "      <td>70.25098</td>\n",
       "      <td>Male</td>\n",
       "      <td>12.000000</td>\n",
       "      <td>0.640991</td>\n",
       "      <td>23.50000</td>\n",
       "      <td>30</td>\n",
       "      <td>No</td>\n",
       "      <td>46</td>\n",
       "      <td>0</td>\n",
       "      <td>41.0</td>\n",
       "      <td>22.097656</td>\n",
       "      <td>124</td>\n",
       "      <td>10.0</td>\n",
       "      <td>38.69531</td>\n",
       "      <td>68.00000</td>\n",
       "      <td>3.500000</td>\n",
       "      <td>58.000000</td>\n",
       "      <td>1.009766</td>\n",
       "      <td>1.199951</td>\n",
       "    </tr>\n",
       "    <tr>\n",
       "      <th>1</th>\n",
       "      <td>0</td>\n",
       "      <td>78.17896</td>\n",
       "      <td>Female</td>\n",
       "      <td>12.000000</td>\n",
       "      <td>0.755000</td>\n",
       "      <td>14.75195</td>\n",
       "      <td>30</td>\n",
       "      <td>No</td>\n",
       "      <td>50</td>\n",
       "      <td>0</td>\n",
       "      <td>63.0</td>\n",
       "      <td>28.898438</td>\n",
       "      <td>137</td>\n",
       "      <td>38.0</td>\n",
       "      <td>38.89844</td>\n",
       "      <td>218.31250</td>\n",
       "      <td>2.599609</td>\n",
       "      <td>32.500000</td>\n",
       "      <td>0.699951</td>\n",
       "      <td>0.599976</td>\n",
       "    </tr>\n",
       "    <tr>\n",
       "      <th>2</th>\n",
       "      <td>0</td>\n",
       "      <td>46.09198</td>\n",
       "      <td>Female</td>\n",
       "      <td>14.069916</td>\n",
       "      <td>0.317000</td>\n",
       "      <td>18.13672</td>\n",
       "      <td>30</td>\n",
       "      <td>No</td>\n",
       "      <td>82</td>\n",
       "      <td>0</td>\n",
       "      <td>57.0</td>\n",
       "      <td>0.049995</td>\n",
       "      <td>130</td>\n",
       "      <td>40.0</td>\n",
       "      <td>36.39844</td>\n",
       "      <td>275.50000</td>\n",
       "      <td>3.500000</td>\n",
       "      <td>21.097656</td>\n",
       "      <td>1.009766</td>\n",
       "      <td>2.599609</td>\n",
       "    </tr>\n",
       "    <tr>\n",
       "      <th>3</th>\n",
       "      <td>0</td>\n",
       "      <td>75.33197</td>\n",
       "      <td>Female</td>\n",
       "      <td>9.000000</td>\n",
       "      <td>0.440979</td>\n",
       "      <td>22.92969</td>\n",
       "      <td>30</td>\n",
       "      <td>No</td>\n",
       "      <td>48</td>\n",
       "      <td>0</td>\n",
       "      <td>55.0</td>\n",
       "      <td>23.296875</td>\n",
       "      <td>58</td>\n",
       "      <td>26.0</td>\n",
       "      <td>35.79688</td>\n",
       "      <td>156.65625</td>\n",
       "      <td>3.500000</td>\n",
       "      <td>26.296875</td>\n",
       "      <td>0.399963</td>\n",
       "      <td>1.699951</td>\n",
       "    </tr>\n",
       "    <tr>\n",
       "      <th>4</th>\n",
       "      <td>0</td>\n",
       "      <td>67.90997</td>\n",
       "      <td>Male</td>\n",
       "      <td>9.945259</td>\n",
       "      <td>0.437000</td>\n",
       "      <td>21.05078</td>\n",
       "      <td>2</td>\n",
       "      <td>Yes</td>\n",
       "      <td>72</td>\n",
       "      <td>41</td>\n",
       "      <td>65.0</td>\n",
       "      <td>29.699219</td>\n",
       "      <td>125</td>\n",
       "      <td>27.0</td>\n",
       "      <td>34.79688</td>\n",
       "      <td>478.00000</td>\n",
       "      <td>3.500000</td>\n",
       "      <td>24.000000</td>\n",
       "      <td>1.009766</td>\n",
       "      <td>3.599609</td>\n",
       "    </tr>\n",
       "  </tbody>\n",
       "</table>\n",
       "</div>"
      ],
      "text/plain": [
       "   amihx       age     sex        edu  surv2md1  das2d3pc  t3d30 dth30  aps1  \\\n",
       "0      0  70.25098    Male  12.000000  0.640991  23.50000     30    No    46   \n",
       "1      0  78.17896  Female  12.000000  0.755000  14.75195     30    No    50   \n",
       "2      0  46.09198  Female  14.069916  0.317000  18.13672     30    No    82   \n",
       "3      0  75.33197  Female   9.000000  0.440979  22.92969     30    No    48   \n",
       "4      0  67.90997    Male   9.945259  0.437000  21.05078      2   Yes    72   \n",
       "\n",
       "   scoma1  meanbp1      wblc1  hrt1  resp1     temp1      pafi1      alb1  \\\n",
       "0       0     41.0  22.097656   124   10.0  38.69531   68.00000  3.500000   \n",
       "1       0     63.0  28.898438   137   38.0  38.89844  218.31250  2.599609   \n",
       "2       0     57.0   0.049995   130   40.0  36.39844  275.50000  3.500000   \n",
       "3       0     55.0  23.296875    58   26.0  35.79688  156.65625  3.500000   \n",
       "4      41     65.0  29.699219   125   27.0  34.79688  478.00000  3.500000   \n",
       "\n",
       "       hema1     bili1     crea1  \n",
       "0  58.000000  1.009766  1.199951  \n",
       "1  32.500000  0.699951  0.599976  \n",
       "2  21.097656  1.009766  2.599609  \n",
       "3  26.296875  0.399963  1.699951  \n",
       "4  24.000000  1.009766  3.599609  "
      ]
     },
     "execution_count": 7,
     "metadata": {},
     "output_type": "execute_result"
    }
   ],
   "source": [
    "columns_20_39 = df.iloc[:, 20:40] \n",
    "\n",
    "columns_20_39.head()\n",
    "\n"
   ]
  },
  {
   "cell_type": "code",
   "execution_count": 8,
   "metadata": {},
   "outputs": [
    {
     "data": {
      "text/html": [
       "<div>\n",
       "<style scoped>\n",
       "    .dataframe tbody tr th:only-of-type {\n",
       "        vertical-align: middle;\n",
       "    }\n",
       "\n",
       "    .dataframe tbody tr th {\n",
       "        vertical-align: top;\n",
       "    }\n",
       "\n",
       "    .dataframe thead th {\n",
       "        text-align: right;\n",
       "    }\n",
       "</style>\n",
       "<table border=\"1\" class=\"dataframe\">\n",
       "  <thead>\n",
       "    <tr style=\"text-align: right;\">\n",
       "      <th></th>\n",
       "      <th>sod1</th>\n",
       "      <th>pot1</th>\n",
       "      <th>paco21</th>\n",
       "      <th>ph1</th>\n",
       "      <th>swang1</th>\n",
       "      <th>wtkilo1</th>\n",
       "      <th>dnr1</th>\n",
       "      <th>ninsclas</th>\n",
       "      <th>resp</th>\n",
       "      <th>card</th>\n",
       "      <th>neuro</th>\n",
       "      <th>gastr</th>\n",
       "      <th>renal</th>\n",
       "      <th>meta</th>\n",
       "      <th>hema</th>\n",
       "      <th>seps</th>\n",
       "      <th>trauma</th>\n",
       "      <th>ortho</th>\n",
       "      <th>adld3p</th>\n",
       "      <th>urin1</th>\n",
       "    </tr>\n",
       "  </thead>\n",
       "  <tbody>\n",
       "    <tr>\n",
       "      <th>0</th>\n",
       "      <td>145</td>\n",
       "      <td>4.000000</td>\n",
       "      <td>40.0</td>\n",
       "      <td>7.359375</td>\n",
       "      <td>No RHC</td>\n",
       "      <td>64.69995</td>\n",
       "      <td>No</td>\n",
       "      <td>Medicare</td>\n",
       "      <td>Yes</td>\n",
       "      <td>Yes</td>\n",
       "      <td>No</td>\n",
       "      <td>No</td>\n",
       "      <td>No</td>\n",
       "      <td>No</td>\n",
       "      <td>No</td>\n",
       "      <td>No</td>\n",
       "      <td>No</td>\n",
       "      <td>No</td>\n",
       "      <td>0.0</td>\n",
       "      <td>Missing_Data</td>\n",
       "    </tr>\n",
       "    <tr>\n",
       "      <th>1</th>\n",
       "      <td>137</td>\n",
       "      <td>3.299805</td>\n",
       "      <td>34.0</td>\n",
       "      <td>7.329102</td>\n",
       "      <td>RHC</td>\n",
       "      <td>45.69998</td>\n",
       "      <td>No</td>\n",
       "      <td>Private &amp; Medicare</td>\n",
       "      <td>No</td>\n",
       "      <td>No</td>\n",
       "      <td>No</td>\n",
       "      <td>No</td>\n",
       "      <td>No</td>\n",
       "      <td>No</td>\n",
       "      <td>No</td>\n",
       "      <td>Yes</td>\n",
       "      <td>No</td>\n",
       "      <td>No</td>\n",
       "      <td>Missing_Data</td>\n",
       "      <td>1437.0</td>\n",
       "    </tr>\n",
       "    <tr>\n",
       "      <th>2</th>\n",
       "      <td>146</td>\n",
       "      <td>2.899902</td>\n",
       "      <td>16.0</td>\n",
       "      <td>7.359375</td>\n",
       "      <td>RHC</td>\n",
       "      <td>0.00000</td>\n",
       "      <td>No</td>\n",
       "      <td>Private</td>\n",
       "      <td>No</td>\n",
       "      <td>Yes</td>\n",
       "      <td>No</td>\n",
       "      <td>No</td>\n",
       "      <td>No</td>\n",
       "      <td>No</td>\n",
       "      <td>No</td>\n",
       "      <td>No</td>\n",
       "      <td>No</td>\n",
       "      <td>No</td>\n",
       "      <td>Missing_Data</td>\n",
       "      <td>599.0</td>\n",
       "    </tr>\n",
       "    <tr>\n",
       "      <th>3</th>\n",
       "      <td>117</td>\n",
       "      <td>5.799805</td>\n",
       "      <td>30.0</td>\n",
       "      <td>7.459961</td>\n",
       "      <td>No RHC</td>\n",
       "      <td>54.59998</td>\n",
       "      <td>No</td>\n",
       "      <td>Private &amp; Medicare</td>\n",
       "      <td>Yes</td>\n",
       "      <td>No</td>\n",
       "      <td>No</td>\n",
       "      <td>No</td>\n",
       "      <td>No</td>\n",
       "      <td>No</td>\n",
       "      <td>No</td>\n",
       "      <td>No</td>\n",
       "      <td>No</td>\n",
       "      <td>No</td>\n",
       "      <td>Missing_Data</td>\n",
       "      <td>Missing_Data</td>\n",
       "    </tr>\n",
       "    <tr>\n",
       "      <th>4</th>\n",
       "      <td>126</td>\n",
       "      <td>5.799805</td>\n",
       "      <td>17.0</td>\n",
       "      <td>7.229492</td>\n",
       "      <td>RHC</td>\n",
       "      <td>78.39996</td>\n",
       "      <td>Yes</td>\n",
       "      <td>Medicare</td>\n",
       "      <td>No</td>\n",
       "      <td>Yes</td>\n",
       "      <td>No</td>\n",
       "      <td>No</td>\n",
       "      <td>No</td>\n",
       "      <td>No</td>\n",
       "      <td>No</td>\n",
       "      <td>No</td>\n",
       "      <td>No</td>\n",
       "      <td>No</td>\n",
       "      <td>Missing_Data</td>\n",
       "      <td>64.0</td>\n",
       "    </tr>\n",
       "  </tbody>\n",
       "</table>\n",
       "</div>"
      ],
      "text/plain": [
       "   sod1      pot1  paco21       ph1  swang1   wtkilo1 dnr1  \\\n",
       "0   145  4.000000    40.0  7.359375  No RHC  64.69995   No   \n",
       "1   137  3.299805    34.0  7.329102     RHC  45.69998   No   \n",
       "2   146  2.899902    16.0  7.359375     RHC   0.00000   No   \n",
       "3   117  5.799805    30.0  7.459961  No RHC  54.59998   No   \n",
       "4   126  5.799805    17.0  7.229492     RHC  78.39996  Yes   \n",
       "\n",
       "             ninsclas resp card neuro gastr renal meta hema seps trauma ortho  \\\n",
       "0            Medicare  Yes  Yes    No    No    No   No   No   No     No    No   \n",
       "1  Private & Medicare   No   No    No    No    No   No   No  Yes     No    No   \n",
       "2             Private   No  Yes    No    No    No   No   No   No     No    No   \n",
       "3  Private & Medicare  Yes   No    No    No    No   No   No   No     No    No   \n",
       "4            Medicare   No  Yes    No    No    No   No   No   No     No    No   \n",
       "\n",
       "         adld3p         urin1  \n",
       "0           0.0  Missing_Data  \n",
       "1  Missing_Data        1437.0  \n",
       "2  Missing_Data         599.0  \n",
       "3  Missing_Data  Missing_Data  \n",
       "4  Missing_Data          64.0  "
      ]
     },
     "execution_count": 8,
     "metadata": {},
     "output_type": "execute_result"
    }
   ],
   "source": [
    "columns_40_59 = df.iloc[:, 40:60] \n",
    "\n",
    "columns_40_59.head()"
   ]
  },
  {
   "cell_type": "code",
   "execution_count": 9,
   "metadata": {},
   "outputs": [
    {
     "data": {
      "text/html": [
       "<div>\n",
       "<style scoped>\n",
       "    .dataframe tbody tr th:only-of-type {\n",
       "        vertical-align: middle;\n",
       "    }\n",
       "\n",
       "    .dataframe tbody tr th {\n",
       "        vertical-align: top;\n",
       "    }\n",
       "\n",
       "    .dataframe thead th {\n",
       "        text-align: right;\n",
       "    }\n",
       "</style>\n",
       "<table border=\"1\" class=\"dataframe\">\n",
       "  <thead>\n",
       "    <tr style=\"text-align: right;\">\n",
       "      <th></th>\n",
       "      <th>race</th>\n",
       "      <th>income</th>\n",
       "      <th>ptid</th>\n",
       "    </tr>\n",
       "  </thead>\n",
       "  <tbody>\n",
       "    <tr>\n",
       "      <th>0</th>\n",
       "      <td>white</td>\n",
       "      <td>Under $11k</td>\n",
       "      <td>5</td>\n",
       "    </tr>\n",
       "    <tr>\n",
       "      <th>1</th>\n",
       "      <td>white</td>\n",
       "      <td>Under $11k</td>\n",
       "      <td>7</td>\n",
       "    </tr>\n",
       "    <tr>\n",
       "      <th>2</th>\n",
       "      <td>white</td>\n",
       "      <td>$25-$50k</td>\n",
       "      <td>9</td>\n",
       "    </tr>\n",
       "    <tr>\n",
       "      <th>3</th>\n",
       "      <td>white</td>\n",
       "      <td>$11-$25k</td>\n",
       "      <td>10</td>\n",
       "    </tr>\n",
       "    <tr>\n",
       "      <th>4</th>\n",
       "      <td>white</td>\n",
       "      <td>Under $11k</td>\n",
       "      <td>11</td>\n",
       "    </tr>\n",
       "  </tbody>\n",
       "</table>\n",
       "</div>"
      ],
      "text/plain": [
       "    race      income  ptid\n",
       "0  white  Under $11k     5\n",
       "1  white  Under $11k     7\n",
       "2  white    $25-$50k     9\n",
       "3  white    $11-$25k    10\n",
       "4  white  Under $11k    11"
      ]
     },
     "execution_count": 9,
     "metadata": {},
     "output_type": "execute_result"
    }
   ],
   "source": [
    "columns_60_62 = df.iloc[:, 60:] \n",
    "\n",
    "columns_60_62.head()"
   ]
  },
  {
   "cell_type": "code",
   "execution_count": 10,
   "metadata": {},
   "outputs": [
    {
     "name": "stdout",
     "output_type": "stream",
     "text": [
      "63\n",
      "Index(['Unnamed: 0', 'cat1', 'cat2', 'ca', 'sadmdte', 'dschdte', 'dthdte',\n",
      "       'lstctdte', 'death', 'cardiohx', 'chfhx', 'dementhx', 'psychhx',\n",
      "       'chrpulhx', 'renalhx', 'liverhx', 'gibledhx', 'malighx', 'immunhx',\n",
      "       'transhx', 'amihx', 'age', 'sex', 'edu', 'surv2md1', 'das2d3pc',\n",
      "       't3d30', 'dth30', 'aps1', 'scoma1', 'meanbp1', 'wblc1', 'hrt1', 'resp1',\n",
      "       'temp1', 'pafi1', 'alb1', 'hema1', 'bili1', 'crea1', 'sod1', 'pot1',\n",
      "       'paco21', 'ph1', 'swang1', 'wtkilo1', 'dnr1', 'ninsclas', 'resp',\n",
      "       'card', 'neuro', 'gastr', 'renal', 'meta', 'hema', 'seps', 'trauma',\n",
      "       'ortho', 'adld3p', 'urin1', 'race', 'income', 'ptid'],\n",
      "      dtype='object')\n"
     ]
    }
   ],
   "source": [
    "print(len(df.columns))\n",
    "          \n",
    "print(df.columns)\n",
    "          \n",
    "\n",
    "\n",
    "\n"
   ]
  },
  {
   "cell_type": "code",
   "execution_count": 11,
   "metadata": {},
   "outputs": [
    {
     "data": {
      "text/plain": [
       "3"
      ]
     },
     "execution_count": 11,
     "metadata": {},
     "output_type": "execute_result"
    }
   ],
   "source": [
    "len(columns_60_62.columns)"
   ]
  },
  {
   "cell_type": "code",
   "execution_count": 12,
   "metadata": {},
   "outputs": [
    {
     "name": "stdout",
     "output_type": "stream",
     "text": [
      "Column 'Unnamed: 0' has 5735 unique values.\n",
      "Column 'cat1' has 9 unique values.\n",
      "Column 'cat2' has 7 unique values.\n",
      "Column 'ca' has 3 unique values.\n",
      "Column 'sadmdte' has 1401 unique values.\n",
      "Column 'dschdte' has 1487 unique values.\n",
      "Column 'dthdte' has 1593 unique values.\n",
      "Column 'lstctdte' has 932 unique values.\n",
      "Column 'death' has 2 unique values.\n",
      "Column 'cardiohx' has 2 unique values.\n",
      "Column 'chfhx' has 2 unique values.\n",
      "Column 'dementhx' has 2 unique values.\n",
      "Column 'psychhx' has 2 unique values.\n",
      "Column 'chrpulhx' has 2 unique values.\n",
      "Column 'renalhx' has 2 unique values.\n",
      "Column 'liverhx' has 2 unique values.\n",
      "Column 'gibledhx' has 2 unique values.\n",
      "Column 'malighx' has 2 unique values.\n",
      "Column 'immunhx' has 2 unique values.\n",
      "Column 'transhx' has 2 unique values.\n",
      "Column 'amihx' has 2 unique values.\n",
      "Column 'age' has 5036 unique values.\n",
      "Column 'sex' has 2 unique values.\n",
      "Column 'edu' has 42 unique values.\n",
      "Column 'surv2md1' has 1522 unique values.\n",
      "Column 'das2d3pc' has 1023 unique values.\n",
      "Column 't3d30' has 29 unique values.\n",
      "Column 'dth30' has 2 unique values.\n",
      "Column 'aps1' has 123 unique values.\n",
      "Column 'scoma1' has 11 unique values.\n",
      "Column 'meanbp1' has 178 unique values.\n",
      "Column 'wblc1' has 520 unique values.\n",
      "Column 'hrt1' has 189 unique values.\n",
      "Column 'resp1' has 72 unique values.\n",
      "Column 'temp1' has 118 unique values.\n",
      "Column 'pafi1' has 1342 unique values.\n",
      "Column 'alb1' has 57 unique values.\n",
      "Column 'hema1' has 450 unique values.\n",
      "Column 'bili1' has 266 unique values.\n",
      "Column 'crea1' has 148 unique values.\n",
      "Column 'sod1' has 73 unique values.\n",
      "Column 'pot1' has 81 unique values.\n",
      "Column 'paco21' has 266 unique values.\n",
      "Column 'ph1' has 96 unique values.\n",
      "Column 'swang1' has 2 unique values.\n",
      "Column 'wtkilo1' has 922 unique values.\n",
      "Column 'dnr1' has 2 unique values.\n",
      "Column 'ninsclas' has 6 unique values.\n",
      "Column 'resp' has 2 unique values.\n",
      "Column 'card' has 2 unique values.\n",
      "Column 'neuro' has 2 unique values.\n",
      "Column 'gastr' has 2 unique values.\n",
      "Column 'renal' has 2 unique values.\n",
      "Column 'meta' has 2 unique values.\n",
      "Column 'hema' has 2 unique values.\n",
      "Column 'seps' has 2 unique values.\n",
      "Column 'trauma' has 2 unique values.\n",
      "Column 'ortho' has 2 unique values.\n",
      "Column 'adld3p' has 9 unique values.\n",
      "Column 'urin1' has 1441 unique values.\n",
      "Column 'race' has 3 unique values.\n",
      "Column 'income' has 4 unique values.\n",
      "Column 'ptid' has 5735 unique values.\n"
     ]
    }
   ],
   "source": [
    "\n",
    "\n",
    "\n",
    "unique_value_counts = []\n",
    "\n",
    "# Loop over each column in the DataFrame\n",
    "for col in df.columns:\n",
    "    # Count the number of unique values in the current column\n",
    "    num_unique_values = df[col].nunique()\n",
    "    \n",
    "    # Append the result to the list\n",
    "    unique_value_counts.append([col, num_unique_values])\n",
    "\n",
    "# Print the results\n",
    "for col, count in unique_value_counts:\n",
    "    print(f\"Column '{col}' has {count} unique values.\")"
   ]
  },
  {
   "cell_type": "code",
   "execution_count": 13,
   "metadata": {},
   "outputs": [
    {
     "name": "stdout",
     "output_type": "stream",
     "text": [
      "21\n",
      "['Unnamed: 0', 'sadmdte', 'dschdte', 'dthdte', 'lstctdte', 'age', 'surv2md1', 'das2d3pc', 'aps1', 'meanbp1', 'wblc1', 'hrt1', 'temp1', 'pafi1', 'hema1', 'bili1', 'crea1', 'paco21', 'wtkilo1', 'urin1', 'ptid']\n"
     ]
    }
   ],
   "source": [
    "discrete = []\n",
    "continuous = []\n",
    "unsure = [] \n",
    "\n",
    "\n",
    "for col, num_uniq in unique_value_counts :\n",
    "    if num_uniq > 100 :\n",
    "        continuous.append(col)\n",
    "    elif num_uniq < 10 :\n",
    "        discrete.append(col)\n",
    "    else :\n",
    "        unsure.append(col)\n",
    "\n",
    "\n",
    "print(len(continuous))\n",
    "print(continuous)\n"
   ]
  },
  {
   "cell_type": "code",
   "execution_count": 14,
   "metadata": {},
   "outputs": [
    {
     "name": "stdout",
     "output_type": "stream",
     "text": [
      "34\n",
      "['cat1', 'cat2', 'ca', 'death', 'cardiohx', 'chfhx', 'dementhx', 'psychhx', 'chrpulhx', 'renalhx', 'liverhx', 'gibledhx', 'malighx', 'immunhx', 'transhx', 'amihx', 'sex', 'dth30', 'swang1', 'dnr1', 'ninsclas', 'resp', 'card', 'neuro', 'gastr', 'renal', 'meta', 'hema', 'seps', 'trauma', 'ortho', 'adld3p', 'race', 'income']\n",
      "['cat1', 'cat2', 'ca', 'death', 'cardiohx', 'chfhx', 'dementhx', 'psychhx', 'chrpulhx', 'renalhx', 'liverhx', 'gibledhx', 'malighx', 'immunhx', 'transhx', 'amihx', 'sex', 'dth30', 'swang1', 'dnr1', 'ninsclas', 'resp', 'card', 'neuro', 'gastr', 'renal', 'meta', 'hema', 'seps', 'trauma', 'ortho', 'adld3p', 'race', 'income']\n"
     ]
    }
   ],
   "source": [
    "print(len(discrete))\n",
    "print(discrete)\n",
    "\n",
    "print(discrete)\n"
   ]
  },
  {
   "cell_type": "code",
   "execution_count": 15,
   "metadata": {},
   "outputs": [
    {
     "name": "stdout",
     "output_type": "stream",
     "text": [
      "8\n",
      "['edu', 't3d30', 'scoma1', 'resp1', 'alb1', 'sod1', 'pot1', 'ph1']\n"
     ]
    }
   ],
   "source": [
    "print(len(unsure))\n",
    "print(unsure)\n"
   ]
  },
  {
   "cell_type": "code",
   "execution_count": null,
   "metadata": {},
   "outputs": [],
   "source": []
  },
  {
   "cell_type": "code",
   "execution_count": null,
   "metadata": {},
   "outputs": [],
   "source": []
  },
  {
   "cell_type": "code",
   "execution_count": null,
   "metadata": {},
   "outputs": [],
   "source": []
  },
  {
   "cell_type": "code",
   "execution_count": null,
   "metadata": {},
   "outputs": [],
   "source": [
    "\n",
    "\n",
    "\n",
    "\n",
    "\n",
    "\n",
    "\n",
    "\n",
    "\n"
   ]
  },
  {
   "cell_type": "code",
   "execution_count": 16,
   "metadata": {},
   "outputs": [
    {
     "name": "stdout",
     "output_type": "stream",
     "text": [
      "unique values : \n",
      "cat1: ['COPD', 'MOSF w/Sepsis', 'MOSF w/Malignancy', 'ARF', 'CHF', 'Coma', 'Cirrhosis', 'Lung Cancer', 'Colon Cancer']\n",
      "cat2: ['Missing_Data', 'MOSF w/Sepsis', 'Coma', 'MOSF w/Malignancy', 'Lung Cancer', 'Cirrhosis', 'Colon Cancer']\n",
      "ca: ['Yes', 'No', 'Metastatic']\n",
      "death: ['No', 'Yes']\n",
      "cardiohx: [0, 1]\n",
      "chfhx: [0, 1]\n",
      "dementhx: [0, 1]\n",
      "psychhx: [0, 1]\n",
      "chrpulhx: [1, 0]\n",
      "renalhx: [0, 1]\n",
      "liverhx: [0, 1]\n",
      "gibledhx: [0, 1]\n",
      "malighx: [1, 0]\n",
      "immunhx: [0, 1]\n",
      "transhx: [0, 1]\n",
      "amihx: [0, 1]\n",
      "sex: ['Male', 'Female']\n",
      "dth30: ['No', 'Yes']\n",
      "swang1: ['No RHC', 'RHC']\n",
      "dnr1: ['No', 'Yes']\n",
      "ninsclas: ['Medicare', 'Private & Medicare', 'Private', 'Medicaid', 'No insurance', 'Medicare & Medicaid']\n",
      "resp: ['Yes', 'No']\n",
      "card: ['Yes', 'No']\n",
      "neuro: ['No', 'Yes']\n",
      "gastr: ['No', 'Yes']\n",
      "renal: ['No', 'Yes']\n",
      "meta: ['No', 'Yes']\n",
      "hema: ['No', 'Yes']\n",
      "seps: ['No', 'Yes']\n",
      "trauma: ['No', 'Yes']\n",
      "ortho: ['No', 'Yes']\n",
      "adld3p: [0.0, 'Missing_Data', 2.0, 5.0, 3.0, 6.0, 1.0, 7.0, 4.0]\n",
      "race: ['white', 'black', 'other']\n",
      "income: ['Under $11k', '$25-$50k', '$11-$25k', '> $50k']\n"
     ]
    }
   ],
   "source": [
    "\n",
    "unique_values_dict_discrete = my_column_manager.make_unique_values_dictionary(discrete) \n",
    "\n",
    "print((f\"unique values : \"))\n",
    "for col , list_uniq in unique_values_dict_discrete.items() :\n",
    "    print(f\"{col}: {list_uniq}\")\n",
    "\n"
   ]
  },
  {
   "cell_type": "code",
   "execution_count": 17,
   "metadata": {},
   "outputs": [
    {
     "name": "stdout",
     "output_type": "stream",
     "text": [
      "test\n",
      "unique values : \n",
      "edu: [12.0, 14.069916, 9.0, 9.945259, 8.0, 14.0, 12.821571, 11.040535, 15.0, 16.0, 3.0, 8.436928, 13.611382, 11.0, 17.0, 7.0, 13.0, 4.0, 10.0, 11.421669, 19.0, 6.0, 11.704216, 0.0, 14.252106, 18.0, 24.0, 5.0, 20.0, 23.0, 11.522331, 1.0, 2.0, 21.0, 13.649826, 13.262733, 15.139847, 22.0, 27.0, 26.0, 30.0, 25.0]\n",
      "t3d30: [30, 2, 13, 19, 15, 6, 5, 3, 22, 7, 16, 10, 4, 11, 20, 23, 9, 21, 8, 14, 27, 17, 18, 12, 28, 24, 25, 26, 29]\n",
      "scoma1: [0, 41, 26, 100, 9, 37, 94, 44, 55, 61, 89]\n",
      "resp1: [10.0, 38.0, 40.0, 26.0, 27.0, 36.0, 34.0, 30.0, 12.0, 37.0, 39.0, 48.0, 20.0, 52.0, 22.0, 8.0, 0.0, 33.0, 42.0, 44.0, 32.0, 28.0, 16.0, 47.0, 24.0, 14.0, 11.0, 50.0, 6.0, 56.0, 4.0, 18.0, 35.0, 31.0, 15.0, 9.0, 45.0, 25.0, 58.0, 62.0, 41.0, 63.0, 60.0, 23.0, 13.0, 29.0, 49.0, 17.0, 43.0, 53.0, 64.0, 54.0, 70.0, 65.0, 80.0, 46.0, 66.0, 7.0, 55.0, 69.0, 21.0, 5.0, 51.0, 2.0, 72.0, 68.0, 3.0, 19.0, 94.29688, 90.0, 100.0, 59.0]\n",
      "alb1: [3.5, 2.5996094, 3.0996094, 2.699707, 3.0, 2.5, 2.2998047, 2.199707, 1.7998047, 3.3999023, 2.3999023, 4.5, 3.8999023, 1.8999023, 2.7998047, 4.0, 1.5998535, 3.199707, 4.1992188, 3.5996094, 4.2998047, 4.3994141, 4.0996094, 2.0, 3.2998047, 0.8999023, 1.0998535, 2.8999023, 4.6992188, 2.0996094, 1.5, 3.699707, 3.7998047, 4.5996094, 1.1999512, 0.5, 1.6999512, 1.2998047, 1.3999023, 1.0, 4.7998047, 4.8994141, 5.0, 11.0, 2.6396484, 0.7999268, 6.2998047, 0.6999512, 5.5, 5.6992188, 6.5996094, 0.2999878, 29.0, 0.3999634, 5.7998047, 5.0996094, 5.1992188]\n",
      "sod1: [145, 137, 146, 117, 126, 138, 136, 133, 132, 147, 134, 150, 131, 143, 135, 130, 142, 144, 122, 127, 139, 123, 129, 141, 149, 128, 140, 151, 155, 124, 110, 125, 148, 118, 157, 121, 112, 152, 160, 156, 172, 159, 119, 158, 107, 154, 168, 120, 114, 174, 165, 163, 153, 173, 102, 113, 162, 106, 161, 111, 115, 166, 116, 103, 105, 109, 177, 178, 164, 101, 169, 167, 170]\n",
      "pot1: [4.0, 3.299805, 2.899902, 5.799805, 5.399414, 3.699707, 4.099609, 3.099609, 5.299805, 3.199707, 4.699219, 3.599609, 7.299805, 8.199219, 4.299805, 3.799805, 5.699219, 7.599609, 3.5, 5.199219, 4.799805, 2.799805, 3.899902, 4.899414, 5.099609, 3.399902, 2.099609, 4.199219, 7.799805, 5.0, 4.399414, 2.699707, 5.599609, 7.399414, 5.5, 7.0, 9.298828, 2.599609, 2.299805, 6.199219, 4.599609, 3.0, 6.399414, 2.399902, 6.0, 4.5, 6.799805, 8.898438, 5.899414, 2.5, 2.0, 6.099609, 6.899414, 1.099854, 6.599609, 2.199707, 6.699219, 11.898438, 6.5, 6.299805, 8.099609, 9.0, 7.699219, 7.099609, 8.5, 1.699951, 8.798828, 7.5, 7.199219, 1.199951, 8.0, 1.799805, 8.298828, 9.398438, 1.899902, 8.599609, 10.398438, 8.398438, 1.399902, 8.699219, 7.899414]\n",
      "ph1: [7.359375, 7.329102, 7.459961, 7.229492, 7.299805, 7.379883, 7.55957, 7.399998, 7.349609, 7.439453, 7.369141, 7.469727, 7.30957, 7.509766, 7.449219, 7.399414, 7.319336, 7.389648, 7.429688, 7.339844, 7.529297, 7.539062, 7.279297, 7.099609, 7.5, 7.40918, 7.239258, 7.489258, 7.419922, 7.259766, 7.289062, 7.479492, 7.549805, 7.219727, 7.209961, 7.569336, 7.149414, 7.599609, 7.25, 6.939453, 6.949219, 7.189453, 7.579102, 7.269531, 7.079102, 7.519531, 7.169922, 7.019531, 7.089844, 7.609375, 7.15918, 6.969727, 7.069336, 7.129883, 7.199219, 7.119141, 7.05957, 7.689453, 6.979492, 7.589844, 7.009766, 7.629883, 7.139648, 7.639648, 6.869141, 7.179688, 6.579102, 7.709961, 6.959961, 7.109375, 6.90918, 7.039062, 6.989258, 7.049805, 6.709961, 7.619141, 7.65918, 7.769531, 6.919922, 7.0, 6.829102, 6.929688, 6.899414, 7.719727, 6.75, 6.80957, 7.649414, 6.849609, 7.029297, 6.839844, 6.819336, 6.879883, 7.75, 7.699219, 6.769531, 6.889648]\n"
     ]
    }
   ],
   "source": [
    "print(\"test\")\n",
    "unique_values_dict_unsure = my_column_manager.make_unique_values_dictionary(unsure) \n",
    "\n",
    "\n",
    "\n",
    "\n",
    "print((f\"unique values : \"))\n",
    "for col , list_uniq in unique_values_dict_unsure.items() :\n",
    "    print(f\"{col}: {list_uniq}\")\n"
   ]
  },
  {
   "cell_type": "code",
   "execution_count": 18,
   "metadata": {},
   "outputs": [
    {
     "data": {
      "text/plain": [
       "{'swang1': ['No RHC', 'RHC']}"
      ]
     },
     "execution_count": 18,
     "metadata": {},
     "output_type": "execute_result"
    }
   ],
   "source": [
    "my_column_manager.make_unique_values_dictionary(['swang1'])"
   ]
  },
  {
   "cell_type": "code",
   "execution_count": 19,
   "metadata": {},
   "outputs": [
    {
     "name": "stdout",
     "output_type": "stream",
     "text": [
      "124\n",
      "test1\n",
      "Index(['Unnamed: 0', 'sadmdte', 'dschdte', 'dthdte', 'lstctdte', 'age', 'edu',\n",
      "       'surv2md1', 'das2d3pc', 't3d30',\n",
      "       ...\n",
      "       'OneHot_adld3p_6.0', 'OneHot_adld3p_7.0', 'OneHot_adld3p_Missing_Data',\n",
      "       'OneHot_race_other', 'OneHot_race_black', 'OneHot_race_white',\n",
      "       'OneHot_income_> $50k', 'OneHot_income_Under $11k',\n",
      "       'OneHot_income_$11-$25k', 'OneHot_income_$25-$50k'],\n",
      "      dtype='object', length=124)\n",
      "test2\n"
     ]
    },
    {
     "name": "stderr",
     "output_type": "stream",
     "text": [
      "/home/paulm/Bureau/codes/rhc_dataset/../one_hot_module_repo/one_hot_module/one_hot_module.py:111: PerformanceWarning: DataFrame is highly fragmented.  This is usually the result of calling `frame.insert` many times, which has poor performance.  Consider joining all columns at once using pd.concat(axis=1) instead. To get a de-fragmented frame, use `newframe = frame.copy()`\n",
      "  self.df[new_name] =  self.df[column_title].apply(lambda x: ratio if x == category else 0)\n",
      "/home/paulm/Bureau/codes/rhc_dataset/../one_hot_module_repo/one_hot_module/one_hot_module.py:111: PerformanceWarning: DataFrame is highly fragmented.  This is usually the result of calling `frame.insert` many times, which has poor performance.  Consider joining all columns at once using pd.concat(axis=1) instead. To get a de-fragmented frame, use `newframe = frame.copy()`\n",
      "  self.df[new_name] =  self.df[column_title].apply(lambda x: ratio if x == category else 0)\n",
      "/home/paulm/Bureau/codes/rhc_dataset/../one_hot_module_repo/one_hot_module/one_hot_module.py:111: PerformanceWarning: DataFrame is highly fragmented.  This is usually the result of calling `frame.insert` many times, which has poor performance.  Consider joining all columns at once using pd.concat(axis=1) instead. To get a de-fragmented frame, use `newframe = frame.copy()`\n",
      "  self.df[new_name] =  self.df[column_title].apply(lambda x: ratio if x == category else 0)\n",
      "/home/paulm/Bureau/codes/rhc_dataset/../one_hot_module_repo/one_hot_module/one_hot_module.py:111: PerformanceWarning: DataFrame is highly fragmented.  This is usually the result of calling `frame.insert` many times, which has poor performance.  Consider joining all columns at once using pd.concat(axis=1) instead. To get a de-fragmented frame, use `newframe = frame.copy()`\n",
      "  self.df[new_name] =  self.df[column_title].apply(lambda x: ratio if x == category else 0)\n",
      "/home/paulm/Bureau/codes/rhc_dataset/../one_hot_module_repo/one_hot_module/one_hot_module.py:111: PerformanceWarning: DataFrame is highly fragmented.  This is usually the result of calling `frame.insert` many times, which has poor performance.  Consider joining all columns at once using pd.concat(axis=1) instead. To get a de-fragmented frame, use `newframe = frame.copy()`\n",
      "  self.df[new_name] =  self.df[column_title].apply(lambda x: ratio if x == category else 0)\n",
      "/home/paulm/Bureau/codes/rhc_dataset/../one_hot_module_repo/one_hot_module/one_hot_module.py:111: PerformanceWarning: DataFrame is highly fragmented.  This is usually the result of calling `frame.insert` many times, which has poor performance.  Consider joining all columns at once using pd.concat(axis=1) instead. To get a de-fragmented frame, use `newframe = frame.copy()`\n",
      "  self.df[new_name] =  self.df[column_title].apply(lambda x: ratio if x == category else 0)\n",
      "/home/paulm/Bureau/codes/rhc_dataset/../one_hot_module_repo/one_hot_module/one_hot_module.py:111: PerformanceWarning: DataFrame is highly fragmented.  This is usually the result of calling `frame.insert` many times, which has poor performance.  Consider joining all columns at once using pd.concat(axis=1) instead. To get a de-fragmented frame, use `newframe = frame.copy()`\n",
      "  self.df[new_name] =  self.df[column_title].apply(lambda x: ratio if x == category else 0)\n",
      "/home/paulm/Bureau/codes/rhc_dataset/../one_hot_module_repo/one_hot_module/one_hot_module.py:111: PerformanceWarning: DataFrame is highly fragmented.  This is usually the result of calling `frame.insert` many times, which has poor performance.  Consider joining all columns at once using pd.concat(axis=1) instead. To get a de-fragmented frame, use `newframe = frame.copy()`\n",
      "  self.df[new_name] =  self.df[column_title].apply(lambda x: ratio if x == category else 0)\n",
      "/home/paulm/Bureau/codes/rhc_dataset/../one_hot_module_repo/one_hot_module/one_hot_module.py:111: PerformanceWarning: DataFrame is highly fragmented.  This is usually the result of calling `frame.insert` many times, which has poor performance.  Consider joining all columns at once using pd.concat(axis=1) instead. To get a de-fragmented frame, use `newframe = frame.copy()`\n",
      "  self.df[new_name] =  self.df[column_title].apply(lambda x: ratio if x == category else 0)\n",
      "/home/paulm/Bureau/codes/rhc_dataset/../one_hot_module_repo/one_hot_module/one_hot_module.py:111: PerformanceWarning: DataFrame is highly fragmented.  This is usually the result of calling `frame.insert` many times, which has poor performance.  Consider joining all columns at once using pd.concat(axis=1) instead. To get a de-fragmented frame, use `newframe = frame.copy()`\n",
      "  self.df[new_name] =  self.df[column_title].apply(lambda x: ratio if x == category else 0)\n",
      "/home/paulm/Bureau/codes/rhc_dataset/../one_hot_module_repo/one_hot_module/one_hot_module.py:111: PerformanceWarning: DataFrame is highly fragmented.  This is usually the result of calling `frame.insert` many times, which has poor performance.  Consider joining all columns at once using pd.concat(axis=1) instead. To get a de-fragmented frame, use `newframe = frame.copy()`\n",
      "  self.df[new_name] =  self.df[column_title].apply(lambda x: ratio if x == category else 0)\n",
      "/home/paulm/Bureau/codes/rhc_dataset/../one_hot_module_repo/one_hot_module/one_hot_module.py:111: PerformanceWarning: DataFrame is highly fragmented.  This is usually the result of calling `frame.insert` many times, which has poor performance.  Consider joining all columns at once using pd.concat(axis=1) instead. To get a de-fragmented frame, use `newframe = frame.copy()`\n",
      "  self.df[new_name] =  self.df[column_title].apply(lambda x: ratio if x == category else 0)\n",
      "/home/paulm/Bureau/codes/rhc_dataset/../one_hot_module_repo/one_hot_module/one_hot_module.py:111: PerformanceWarning: DataFrame is highly fragmented.  This is usually the result of calling `frame.insert` many times, which has poor performance.  Consider joining all columns at once using pd.concat(axis=1) instead. To get a de-fragmented frame, use `newframe = frame.copy()`\n",
      "  self.df[new_name] =  self.df[column_title].apply(lambda x: ratio if x == category else 0)\n",
      "/home/paulm/Bureau/codes/rhc_dataset/../one_hot_module_repo/one_hot_module/one_hot_module.py:111: PerformanceWarning: DataFrame is highly fragmented.  This is usually the result of calling `frame.insert` many times, which has poor performance.  Consider joining all columns at once using pd.concat(axis=1) instead. To get a de-fragmented frame, use `newframe = frame.copy()`\n",
      "  self.df[new_name] =  self.df[column_title].apply(lambda x: ratio if x == category else 0)\n",
      "/home/paulm/Bureau/codes/rhc_dataset/../one_hot_module_repo/one_hot_module/one_hot_module.py:111: PerformanceWarning: DataFrame is highly fragmented.  This is usually the result of calling `frame.insert` many times, which has poor performance.  Consider joining all columns at once using pd.concat(axis=1) instead. To get a de-fragmented frame, use `newframe = frame.copy()`\n",
      "  self.df[new_name] =  self.df[column_title].apply(lambda x: ratio if x == category else 0)\n",
      "/home/paulm/Bureau/codes/rhc_dataset/../one_hot_module_repo/one_hot_module/one_hot_module.py:111: PerformanceWarning: DataFrame is highly fragmented.  This is usually the result of calling `frame.insert` many times, which has poor performance.  Consider joining all columns at once using pd.concat(axis=1) instead. To get a de-fragmented frame, use `newframe = frame.copy()`\n",
      "  self.df[new_name] =  self.df[column_title].apply(lambda x: ratio if x == category else 0)\n",
      "/home/paulm/Bureau/codes/rhc_dataset/../one_hot_module_repo/one_hot_module/one_hot_module.py:111: PerformanceWarning: DataFrame is highly fragmented.  This is usually the result of calling `frame.insert` many times, which has poor performance.  Consider joining all columns at once using pd.concat(axis=1) instead. To get a de-fragmented frame, use `newframe = frame.copy()`\n",
      "  self.df[new_name] =  self.df[column_title].apply(lambda x: ratio if x == category else 0)\n",
      "/home/paulm/Bureau/codes/rhc_dataset/../one_hot_module_repo/one_hot_module/one_hot_module.py:111: PerformanceWarning: DataFrame is highly fragmented.  This is usually the result of calling `frame.insert` many times, which has poor performance.  Consider joining all columns at once using pd.concat(axis=1) instead. To get a de-fragmented frame, use `newframe = frame.copy()`\n",
      "  self.df[new_name] =  self.df[column_title].apply(lambda x: ratio if x == category else 0)\n"
     ]
    }
   ],
   "source": [
    "\n",
    "\n",
    "my_column_manager.split_multiple_columns(discrete)\n",
    "\n",
    "my_column_manager.df =my_column_manager.df.copy() # attempt to defragment df\n",
    "\n",
    "print(len(df.columns))\n",
    "          \n",
    "print(\"test1\")\n",
    "\n",
    "print(df.columns)\n",
    "\n",
    "print(\"test2\")"
   ]
  },
  {
   "cell_type": "code",
   "execution_count": 20,
   "metadata": {},
   "outputs": [
    {
     "name": "stdout",
     "output_type": "stream",
     "text": [
      "124\n",
      "Index(['Unnamed: 0', 'sadmdte', 'dschdte', 'dthdte', 'lstctdte', 'age', 'edu',\n",
      "       'surv2md1', 'das2d3pc', 't3d30',\n",
      "       ...\n",
      "       'OneHot_adld3p_6.0', 'OneHot_adld3p_7.0', 'OneHot_adld3p_Missing_Data',\n",
      "       'OneHot_race_other', 'OneHot_race_black', 'OneHot_race_white',\n",
      "       'OneHot_income_> $50k', 'OneHot_income_Under $11k',\n",
      "       'OneHot_income_$11-$25k', 'OneHot_income_$25-$50k'],\n",
      "      dtype='object', length=124)\n"
     ]
    }
   ],
   "source": [
    "print(len(my_column_manager.df.columns))\n",
    "print(my_column_manager.df.columns)\n",
    "\n"
   ]
  },
  {
   "cell_type": "code",
   "execution_count": null,
   "metadata": {},
   "outputs": [],
   "source": []
  },
  {
   "cell_type": "code",
   "execution_count": 21,
   "metadata": {},
   "outputs": [
    {
     "name": "stdout",
     "output_type": "stream",
     "text": [
      "8\n",
      "['edu', 't3d30', 'scoma1', 'resp1', 'alb1', 'sod1', 'pot1', 'ph1']\n"
     ]
    }
   ],
   "source": [
    "print(len(unsure))\n",
    "print(unsure)"
   ]
  },
  {
   "cell_type": "code",
   "execution_count": null,
   "metadata": {},
   "outputs": [],
   "source": []
  },
  {
   "cell_type": "code",
   "execution_count": 22,
   "metadata": {},
   "outputs": [
    {
     "name": "stdout",
     "output_type": "stream",
     "text": [
      "['dschdte', 'dthdte', 'urin1']\n"
     ]
    }
   ],
   "source": [
    "non_numeric_mask = my_column_manager.df.apply(pd.to_numeric, errors='coerce').isna() & ~my_column_manager.df.isna()\n",
    "\n",
    "# Get the names of columns with at least one non-numeric value other than NaN\n",
    "columns_with_non_numeric = non_numeric_mask.any()\n",
    "\n",
    "# Display the names of columns with at least one non-numeric value other than NaN\n",
    "print(columns_with_non_numeric[columns_with_non_numeric].index.tolist())\n"
   ]
  },
  {
   "cell_type": "code",
   "execution_count": 23,
   "metadata": {},
   "outputs": [],
   "source": [
    "df_prob = my_column_manager.df[['dschdte', 'dthdte', 'urin1']]"
   ]
  },
  {
   "cell_type": "code",
   "execution_count": 24,
   "metadata": {},
   "outputs": [
    {
     "data": {
      "text/html": [
       "<div>\n",
       "<style scoped>\n",
       "    .dataframe tbody tr th:only-of-type {\n",
       "        vertical-align: middle;\n",
       "    }\n",
       "\n",
       "    .dataframe tbody tr th {\n",
       "        vertical-align: top;\n",
       "    }\n",
       "\n",
       "    .dataframe thead th {\n",
       "        text-align: right;\n",
       "    }\n",
       "</style>\n",
       "<table border=\"1\" class=\"dataframe\">\n",
       "  <thead>\n",
       "    <tr style=\"text-align: right;\">\n",
       "      <th></th>\n",
       "      <th>dschdte</th>\n",
       "      <th>dthdte</th>\n",
       "      <th>urin1</th>\n",
       "    </tr>\n",
       "  </thead>\n",
       "  <tbody>\n",
       "    <tr>\n",
       "      <th>0</th>\n",
       "      <td>11151.0</td>\n",
       "      <td>Missing_Data</td>\n",
       "      <td>Missing_Data</td>\n",
       "    </tr>\n",
       "    <tr>\n",
       "      <th>1</th>\n",
       "      <td>11844.0</td>\n",
       "      <td>11844.0</td>\n",
       "      <td>1437.0</td>\n",
       "    </tr>\n",
       "    <tr>\n",
       "      <th>2</th>\n",
       "      <td>12143.0</td>\n",
       "      <td>Missing_Data</td>\n",
       "      <td>599.0</td>\n",
       "    </tr>\n",
       "    <tr>\n",
       "      <th>3</th>\n",
       "      <td>11183.0</td>\n",
       "      <td>11183.0</td>\n",
       "      <td>Missing_Data</td>\n",
       "    </tr>\n",
       "    <tr>\n",
       "      <th>4</th>\n",
       "      <td>12037.0</td>\n",
       "      <td>12037.0</td>\n",
       "      <td>64.0</td>\n",
       "    </tr>\n",
       "  </tbody>\n",
       "</table>\n",
       "</div>"
      ],
      "text/plain": [
       "   dschdte        dthdte         urin1\n",
       "0  11151.0  Missing_Data  Missing_Data\n",
       "1  11844.0       11844.0        1437.0\n",
       "2  12143.0  Missing_Data         599.0\n",
       "3  11183.0       11183.0  Missing_Data\n",
       "4  12037.0       12037.0          64.0"
      ]
     },
     "execution_count": 24,
     "metadata": {},
     "output_type": "execute_result"
    }
   ],
   "source": [
    "df_prob.head()\n"
   ]
  },
  {
   "cell_type": "code",
   "execution_count": 25,
   "metadata": {},
   "outputs": [
    {
     "name": "stdout",
     "output_type": "stream",
     "text": [
      "is present : 0       False\n",
      "1       False\n",
      "2       False\n",
      "3       False\n",
      "4       False\n",
      "        ...  \n",
      "5730    False\n",
      "5731    False\n",
      "5732    False\n",
      "5733    False\n",
      "5734    False\n",
      "Name: dschdte, Length: 5735, dtype: bool\n",
      "cellule : Missing_Data\n"
     ]
    }
   ],
   "source": [
    "target = my_column_manager.df['dschdte'].astype(str)\n",
    "\n",
    "string_to_find = 'Missing_Data'\n",
    "is_string_present = target.str.contains(string_to_find)\n",
    "print(f\"is present : {is_string_present}\")\n",
    "\n",
    "\n",
    "my_cell = my_column_manager.df.astype(str).at[4682, \"dschdte\"]\n",
    "print(f'cellule : {my_cell}')\n"
   ]
  },
  {
   "cell_type": "code",
   "execution_count": 26,
   "metadata": {},
   "outputs": [
    {
     "name": "stdout",
     "output_type": "stream",
     "text": [
      "      Unnamed: 0  sadmdte       dschdte   dthdte  lstctdte       age   edu  \\\n",
      "4682        4683    12386  Missing_Data  12780.0     12582  49.54999  10.0   \n",
      "\n",
      "      surv2md1  das2d3pc  t3d30  ...  OneHot_adld3p_6.0  OneHot_adld3p_7.0  \\\n",
      "4682     0.782  15.40625     30  ...                  0                  0   \n",
      "\n",
      "      OneHot_adld3p_Missing_Data  OneHot_race_other  OneHot_race_black  \\\n",
      "4682                           1                  0                  0   \n",
      "\n",
      "      OneHot_race_white  OneHot_income_> $50k  OneHot_income_Under $11k  \\\n",
      "4682                  1                     0                         0   \n",
      "\n",
      "      OneHot_income_$11-$25k  OneHot_income_$25-$50k  \n",
      "4682                       0                       1  \n",
      "\n",
      "[1 rows x 124 columns]\n"
     ]
    }
   ],
   "source": [
    "# Filter the rows where the string \"Missing_Data\" is present\n",
    "rows_with_string = my_column_manager.df[is_string_present]\n",
    "\n",
    "# Display the filtered rows\n",
    "print(rows_with_string)\n"
   ]
  },
  {
   "cell_type": "code",
   "execution_count": null,
   "metadata": {},
   "outputs": [],
   "source": []
  },
  {
   "cell_type": "code",
   "execution_count": null,
   "metadata": {},
   "outputs": [],
   "source": [
    "\n"
   ]
  },
  {
   "cell_type": "code",
   "execution_count": 27,
   "metadata": {},
   "outputs": [
    {
     "name": "stderr",
     "output_type": "stream",
     "text": [
      "/tmp/ipykernel_5889/663947305.py:2: FutureWarning: Downcasting behavior in `replace` is deprecated and will be removed in a future version. To retain the old behavior, explicitly call `result.infer_objects(copy=False)`. To opt-in to the future behavior, set `pd.set_option('future.no_silent_downcasting', True)`\n",
      "  my_column_manager.df = my_column_manager.df.replace('Missing_Data', np.nan).infer_objects(copy=False)\n"
     ]
    }
   ],
   "source": [
    "# Replace \"Missing_Data\" with NaN for all columns\n",
    "my_column_manager.df = my_column_manager.df.replace('Missing_Data', np.nan).infer_objects(copy=False)\n",
    "\n",
    "# Convert all columns to numeric\n",
    "my_column_manager.df = my_column_manager.df.apply(pd.to_numeric, errors='coerce')\n",
    "\n",
    "# Calculate the average of each column\n",
    "column_means = my_column_manager.df.mean(skipna=True)\n",
    "\n",
    "# Fill NaN values with column means\n",
    "df = my_column_manager.df.fillna(column_means)"
   ]
  },
  {
   "cell_type": "code",
   "execution_count": 28,
   "metadata": {},
   "outputs": [
    {
     "name": "stdout",
     "output_type": "stream",
     "text": [
      "11844.0\n"
     ]
    }
   ],
   "source": [
    "print(df.at[1, \"dschdte\"])"
   ]
  },
  {
   "cell_type": "code",
   "execution_count": 29,
   "metadata": {},
   "outputs": [
    {
     "name": "stdout",
     "output_type": "stream",
     "text": [
      "There are no non-numeric values in the DataFrame.\n"
     ]
    }
   ],
   "source": [
    "\n",
    "# Convert specific columns to numeric, coercing non-numeric values to NaN\n",
    "numeric_df = df.apply(pd.to_numeric, errors='coerce')\n",
    "\n",
    "# Check if there are any NaN values\n",
    "has_non_numeric_values = numeric_df.isna().any().any()\n",
    "\n",
    "if has_non_numeric_values:\n",
    "    print(\"There are non-numeric values in the DataFrame.\")\n",
    "else:\n",
    "    print(\"There are no non-numeric values in the DataFrame.\")"
   ]
  },
  {
   "cell_type": "code",
   "execution_count": 30,
   "metadata": {},
   "outputs": [
    {
     "data": {
      "text/plain": [
       "dict_keys(['cat1', 'cat2', 'ca', 'death', 'cardiohx', 'chfhx', 'dementhx', 'psychhx', 'chrpulhx', 'renalhx', 'liverhx', 'gibledhx', 'malighx', 'immunhx', 'transhx', 'amihx', 'sex', 'dth30', 'swang1', 'dnr1', 'ninsclas', 'resp', 'card', 'neuro', 'gastr', 'renal', 'meta', 'hema', 'seps', 'trauma', 'ortho', 'adld3p', 'race', 'income'])"
      ]
     },
     "execution_count": 30,
     "metadata": {},
     "output_type": "execute_result"
    }
   ],
   "source": [
    "my_column_manager._categorial_columns_data.keys()"
   ]
  },
  {
   "cell_type": "code",
   "execution_count": 31,
   "metadata": {},
   "outputs": [
    {
     "name": "stdout",
     "output_type": "stream",
     "text": [
      "OneHot_swang1_No RHC\n",
      "OneHot_swang1_RHC\n"
     ]
    }
   ],
   "source": [
    "\n",
    "for col in my_column_manager.df.columns :\n",
    "    if 'swang1' in col :\n",
    "        print(col)"
   ]
  },
  {
   "cell_type": "code",
   "execution_count": null,
   "metadata": {},
   "outputs": [],
   "source": [
    "\n",
    "\n",
    "\n"
   ]
  },
  {
   "cell_type": "code",
   "execution_count": null,
   "metadata": {},
   "outputs": [],
   "source": []
  },
  {
   "cell_type": "code",
   "execution_count": null,
   "metadata": {},
   "outputs": [],
   "source": [
    "\n",
    "\n",
    "\n",
    "\n"
   ]
  },
  {
   "cell_type": "code",
   "execution_count": 32,
   "metadata": {},
   "outputs": [],
   "source": [
    "all_continuous = continuous + unsure\n",
    "\n",
    "\n",
    "# my_column_manager.nomrmalize_column('age')\n",
    "\n",
    "\n",
    "my_column_manager.nomrmalize_multiple_columns(all_continuous)\n"
   ]
  },
  {
   "cell_type": "code",
   "execution_count": 33,
   "metadata": {},
   "outputs": [],
   "source": [
    "\n",
    "\n",
    "\n",
    "# my_column_manager.reverse_nomrmalize_all_columns()"
   ]
  },
  {
   "cell_type": "code",
   "execution_count": null,
   "metadata": {},
   "outputs": [],
   "source": []
  },
  {
   "cell_type": "code",
   "execution_count": null,
   "metadata": {},
   "outputs": [],
   "source": []
  },
  {
   "cell_type": "code",
   "execution_count": null,
   "metadata": {},
   "outputs": [],
   "source": []
  },
  {
   "cell_type": "code",
   "execution_count": 34,
   "metadata": {},
   "outputs": [],
   "source": [
    "\n",
    "my_column_manager.reconstruct_column('swang1')\n",
    "\n",
    "# Set the option to opt-in to the future behavior for downcasting\n",
    "pd.set_option('future.no_silent_downcasting', True)\n",
    "# Your existing code\n",
    "my_column_manager.df['swang1'] = my_column_manager.df['swang1'].replace({'RHC': 1, 'No RHC': 0}).infer_objects(copy=False)\n"
   ]
  },
  {
   "cell_type": "code",
   "execution_count": 35,
   "metadata": {},
   "outputs": [],
   "source": [
    "# Save the DataFrame to a CSV file\n",
    "my_column_manager.df.to_csv('rhc_preprocessed.csv', index=False)"
   ]
  },
  {
   "cell_type": "code",
   "execution_count": null,
   "metadata": {},
   "outputs": [],
   "source": []
  },
  {
   "cell_type": "code",
   "execution_count": null,
   "metadata": {},
   "outputs": [],
   "source": []
  }
 ],
 "metadata": {
  "kernelspec": {
   "display_name": "Python 3",
   "language": "python",
   "name": "python3"
  },
  "language_info": {
   "codemirror_mode": {
    "name": "ipython",
    "version": 3
   },
   "file_extension": ".py",
   "mimetype": "text/x-python",
   "name": "python",
   "nbconvert_exporter": "python",
   "pygments_lexer": "ipython3",
   "version": "3.10.12"
  }
 },
 "nbformat": 4,
 "nbformat_minor": 2
}
