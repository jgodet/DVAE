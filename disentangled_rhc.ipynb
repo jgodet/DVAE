{
 "cells": [
  {
   "cell_type": "code",
   "execution_count": 1,
   "metadata": {},
   "outputs": [
    {
     "name": "stdout",
     "output_type": "stream",
     "text": [
      "test : start\n",
      "Using device: cuda\n",
      "GPU: NVIDIA GeForce RTX 3060\n"
     ]
    }
   ],
   "source": [
    "print(\"test : start\")\n",
    "\n",
    "import torch\n",
    "import torch.nn as nn\n",
    "import torch.optim as optim\n",
    "from torch.utils.data import DataLoader\n",
    "from torchvision import datasets, transforms\n",
    "import torch.nn.functional as F\n",
    "import matplotlib.pyplot as plt\n",
    "import numpy as np\n",
    "from torchvision import transforms\n",
    "from sklearn.model_selection import train_test_split\n",
    "from sklearn.metrics import accuracy_score, precision_score, recall_score, f1_score, confusion_matrix, classification_report, mean_squared_error\n",
    "\n",
    "# my modules :\n",
    "from custom_data_set_class import CustomDataset\n",
    "import custom_vae_module\n",
    "from custom_vae_module import train_modular_vae\n",
    "import custom_vae_module_with_yhat \n",
    "from custom_vae_module_with_yhat import train_modular_vae_with_yhat\n",
    "import my_mlp_module \n",
    "\n",
    "\n",
    "# Initialize model and optimizer\n",
    "device = torch.device(\"cuda\" if torch.cuda.is_available() else \"cpu\")\n",
    "print('Using device:', device)\n",
    "print('GPU:', torch.cuda.get_device_name(0))\n",
    "\n",
    "\n",
    "\n",
    "\n",
    "\n"
   ]
  },
  {
   "cell_type": "code",
   "execution_count": 2,
   "metadata": {},
   "outputs": [],
   "source": [
    "# Set up data loaders \n",
    "batch_size = 128\n",
    "\n",
    "use_rhc_data = False\n",
    "if use_rhc_data :\n",
    "    csv_file_path = \"rhc_preprocessed.csv\" # all columns need to be numeric at that point.\n",
    "    full_dataset = CustomDataset(csv_file_path, do_fillna=True)\n",
    "    train_dataset, test_dataset = train_test_split(full_dataset, test_size=0.2, random_state=42)\n",
    "    train_loader = DataLoader(train_dataset, batch_size=batch_size, shuffle=True)\n",
    "    test_loader = DataLoader(test_dataset, batch_size=batch_size, shuffle=False)\n",
    "    input_dim = 122\n",
    "    hidden_dim = 65\n",
    "    latent_dim = 15\n",
    "    num_labels = 2\n",
    "else : \n",
    "    transform = transforms.Compose([transforms.ToTensor()])\n",
    "    train_dataset = datasets.MNIST(root=\"./data\", train=True, transform=transform, download=True)\n",
    "    test_dataset = datasets.MNIST(root=\"./data\", train=False, transform=transform, download=True)\n",
    "    input_dim=784\n",
    "    hidden_dim=300\n",
    "    latent_dim=10\n",
    "    num_labels=10\n",
    "\n",
    "train_loader = DataLoader(train_dataset, batch_size=batch_size, shuffle=True)\n",
    "test_loader = DataLoader(test_dataset, batch_size=batch_size, shuffle=False)\n",
    "\n",
    "\n",
    "use_model_with_yhat = False\n",
    "if use_model_with_yhat : \n",
    "    model = custom_vae_module_with_yhat.ModularVAEWithYHat(input_dim, hidden_dim, latent_dim, num_labels, debug_mode = False).to(device)\n",
    "    train_my_model = train_modular_vae_with_yhat    \n",
    "else : \n",
    "    model = custom_vae_module.ModularVAE(input_dim, hidden_dim, latent_dim, num_labels, debug_mode = False).to(device)\n",
    "    train_my_model = train_modular_vae\n",
    "\n",
    "\n",
    "\n",
    "p_input_dim = input_dim\n",
    "p_hidden_dim = 120\n",
    "p_num_labels = num_labels\n",
    "\n",
    "my_mlp_from_x = my_mlp_module.MyMLP(input_dim = p_input_dim,  num_labels = p_num_labels ).to(device)\n",
    "my_mlp_from_z = my_mlp_module.MyMLPFromLatentSpace(model, input_dim = p_input_dim,  num_labels = p_num_labels , z_dim=latent_dim).to(device)\n",
    "\n",
    "\n",
    "\n",
    "\n",
    "optimizer = optim.Adam(model.parameters(), lr=1e-3)\n",
    "mlp_optimizer_1 = optim.Adam(my_mlp_from_x.parameters(), lr=1e-3)\n",
    "mlp_optimizer_z = optim.Adam(my_mlp_from_z.parameters(), lr=1e-3)\n",
    "\n",
    "\n"
   ]
  },
  {
   "cell_type": "code",
   "execution_count": 3,
   "metadata": {},
   "outputs": [
    {
     "name": "stdout",
     "output_type": "stream",
     "text": [
      "====> Epoch: 1 Average loss: 44.3029657796224\n",
      "====> Epoch: 2 Average loss: 32.75149049479167\n",
      "====> Epoch: 3 Average loss: 30.917134025065103\n",
      "====> Epoch: 4 Average loss: 29.94239003092448\n",
      "====> Epoch: 5 Average loss: 29.25592264811198\n",
      "====> Epoch: 6 Average loss: 28.784832853190103\n",
      "====> Epoch: 7 Average loss: 28.380687520345052\n",
      "====> Epoch: 8 Average loss: 28.110269685872396\n",
      "====> Epoch: 9 Average loss: 27.879476883951824\n",
      "====> Epoch: 10 Average loss: 27.692205249023438\n",
      "====> Epoch: 11 Average loss: 27.504765856933595\n",
      "====> Epoch: 12 Average loss: 27.363344795735678\n",
      "====> Epoch: 13 Average loss: 27.23871006673177\n",
      "====> Epoch: 14 Average loss: 27.121190649414064\n",
      "====> Epoch: 15 Average loss: 27.003873352050782\n",
      "====> Epoch: 16 Average loss: 26.94264547932943\n",
      "====> Epoch: 17 Average loss: 26.870927604166667\n",
      "====> Epoch: 18 Average loss: 26.776848327636717\n",
      "====> Epoch: 19 Average loss: 26.723350174967447\n",
      "====> Epoch: 20 Average loss: 26.664193819173178\n",
      "====> Epoch: 21 Average loss: 26.591112475585938\n",
      "====> Epoch: 22 Average loss: 26.559298014322916\n",
      "====> Epoch: 23 Average loss: 26.47945495605469\n",
      "====> Epoch: 24 Average loss: 26.429997534179687\n",
      "====> Epoch: 25 Average loss: 26.38717107747396\n",
      "====> Epoch: 26 Average loss: 26.33710876871745\n",
      "====> Epoch: 27 Average loss: 26.28165175374349\n",
      "====> Epoch: 28 Average loss: 26.274408211263022\n",
      "====> Epoch: 29 Average loss: 26.24226465657552\n",
      "====> Epoch: 30 Average loss: 26.18706055908203\n",
      "====> Epoch: 31 Average loss: 26.124152600097656\n",
      "====> Epoch: 32 Average loss: 26.117028572591146\n",
      "====> Epoch: 33 Average loss: 26.081450443522137\n",
      "====> Epoch: 34 Average loss: 26.062079243977866\n",
      "====> Epoch: 35 Average loss: 26.035715397135416\n",
      "====> Epoch: 36 Average loss: 25.977256168619792\n",
      "====> Epoch: 37 Average loss: 25.95979443359375\n",
      "====> Epoch: 38 Average loss: 25.929285872395834\n",
      "====> Epoch: 39 Average loss: 25.913589876302083\n",
      "====> Epoch: 40 Average loss: 25.88610529785156\n",
      "====> Epoch: 41 Average loss: 25.864564432779947\n",
      "====> Epoch: 42 Average loss: 25.80202174886068\n",
      "====> Epoch: 43 Average loss: 25.796256856282554\n",
      "====> Epoch: 44 Average loss: 25.76625265299479\n",
      "====> Epoch: 45 Average loss: 25.75737373860677\n",
      "====> Epoch: 46 Average loss: 25.73122996826172\n",
      "====> Epoch: 47 Average loss: 25.72227854410807\n",
      "====> Epoch: 48 Average loss: 25.72163329264323\n",
      "====> Epoch: 49 Average loss: 25.6811735148112\n",
      "====> Epoch: 50 Average loss: 25.675119966634114\n"
     ]
    }
   ],
   "source": [
    "\n",
    "# Run training\n",
    "epochs_main = 50\n",
    "beta = 1 \n",
    "for epoch in range(1, epochs_main + 1):\n",
    "    train_my_model(model, train_loader, optimizer, epoch, beta, device)\n",
    "\n",
    "# Save trained model\n",
    "torch.save(model.state_dict(), 'vae_model_with_custom_loss.pth')\n",
    "torch.save(model, 'beta_vae_model.pth')\n",
    "\n"
   ]
  },
  {
   "cell_type": "code",
   "execution_count": null,
   "metadata": {},
   "outputs": [],
   "source": []
  },
  {
   "cell_type": "code",
   "execution_count": 4,
   "metadata": {},
   "outputs": [
    {
     "name": "stdout",
     "output_type": "stream",
     "text": [
      "====> Epoch: 1 Average loss: 0.0026038405789683265\n",
      "====> Epoch: 2 Average loss: 0.001081596751511097\n",
      "====> Epoch: 3 Average loss: 0.0007129103180486709\n",
      "====> Epoch: 4 Average loss: 0.0005242658252362162\n",
      "====> Epoch: 5 Average loss: 0.0003916715833048026\n",
      "====> Epoch: 6 Average loss: 0.0003060256991923476\n",
      "====> Epoch: 7 Average loss: 0.00023236453636394194\n",
      "====> Epoch: 8 Average loss: 0.00017787049792241305\n",
      "====> Epoch: 9 Average loss: 0.00013686733721600224\n",
      "====> Epoch: 10 Average loss: 0.00010656199979130179\n",
      "====> Epoch: 11 Average loss: 8.710714701446705e-05\n",
      "====> Epoch: 12 Average loss: 7.171888598725976e-05\n",
      "====> Epoch: 13 Average loss: 5.526086665049661e-05\n",
      "====> Epoch: 14 Average loss: 4.74082966131391e-05\n",
      "====> Epoch: 15 Average loss: 3.381610758709333e-05\n",
      "====> Epoch: 16 Average loss: 4.801112780890738e-05\n",
      "====> Epoch: 17 Average loss: 4.541870199488282e-05\n",
      "====> Epoch: 18 Average loss: 1.8636670926207443e-05\n",
      "====> Epoch: 19 Average loss: 6.948488977529147e-06\n",
      "====> Epoch: 20 Average loss: 6.630105695755144e-06\n"
     ]
    }
   ],
   "source": [
    "\n",
    "# Run training\n",
    "epochs_mlp_1 = 20\n",
    "beta = 1 \n",
    "for epoch in range(1, epochs_mlp_1 + 1):\n",
    "    my_mlp_from_x.train_myself(train_loader, mlp_optimizer_1, epoch,  device)\n",
    "\n",
    "\n"
   ]
  },
  {
   "cell_type": "code",
   "execution_count": null,
   "metadata": {},
   "outputs": [],
   "source": []
  },
  {
   "cell_type": "code",
   "execution_count": 5,
   "metadata": {},
   "outputs": [
    {
     "name": "stdout",
     "output_type": "stream",
     "text": [
      "====> Epoch: 1 Average loss: 0.01799553252061208\n",
      "====> Epoch: 2 Average loss: 0.01799535853068034\n",
      "====> Epoch: 3 Average loss: 0.017995671713352205\n",
      "====> Epoch: 4 Average loss: 0.01799514531691869\n",
      "====> Epoch: 5 Average loss: 0.017995608520507814\n",
      "====> Epoch: 6 Average loss: 0.017994524069627125\n",
      "====> Epoch: 7 Average loss: 0.017994767618179322\n",
      "====> Epoch: 8 Average loss: 0.01799535903930664\n",
      "====> Epoch: 9 Average loss: 0.017995014123121898\n",
      "====> Epoch: 10 Average loss: 0.017994966940085094\n",
      "====> Epoch: 11 Average loss: 0.017995028416315714\n",
      "====> Epoch: 12 Average loss: 0.01799441419442495\n",
      "====> Epoch: 13 Average loss: 0.017994992307821908\n",
      "====> Epoch: 14 Average loss: 0.017995308645566303\n",
      "====> Epoch: 15 Average loss: 0.017996103517214458\n",
      "====> Epoch: 16 Average loss: 0.01799531391064326\n",
      "====> Epoch: 17 Average loss: 0.017994798747698465\n",
      "====> Epoch: 18 Average loss: 0.017995005389054616\n",
      "====> Epoch: 19 Average loss: 0.01799539540608724\n",
      "====> Epoch: 20 Average loss: 0.017995916561285654\n"
     ]
    }
   ],
   "source": [
    "\n",
    "\n",
    "\n",
    "# Run training\n",
    "epochs_mlp_z = 20\n",
    "beta = 1 \n",
    "for epoch in range(1, epochs_mlp_z + 1):\n",
    "    my_mlp_from_z.train_myself(train_loader, optimizer =  mlp_optimizer_1, epoch = epoch, device = device)\n",
    "\n",
    "\n",
    "\n"
   ]
  },
  {
   "cell_type": "code",
   "execution_count": 6,
   "metadata": {},
   "outputs": [
    {
     "name": "stdout",
     "output_type": "stream",
     "text": [
      "Accuracy: 0.9775\n",
      "Precision: 0.9780\n",
      "Recall: 0.9775\n",
      "F1 Score: 0.9775\n",
      "Confusion Matrix:\n",
      "[[ 970    0    0    2    0    0    4    0    2    2]\n",
      " [   0 1124    3    1    0    1    2    1    3    0]\n",
      " [   3    2 1012    3    2    0    2    3    4    1]\n",
      " [   0    0    2  995    0    2    0    1    0   10]\n",
      " [   1    0    2    0  964    0    1    0    0   14]\n",
      " [   2    0    0    5    1  874    4    0    5    1]\n",
      " [   4    2    2    1    4    3  941    0    1    0]\n",
      " [   0    6   16    5    4    0    0  945    3   49]\n",
      " [   1    0    3    3    3    4    0    0  955    5]\n",
      " [   0    2    0    2    6    3    0    0    1  995]]\n",
      "Classification Report:\n",
      "              precision    recall  f1-score   support\n",
      "\n",
      "           0       0.99      0.99      0.99       980\n",
      "           1       0.99      0.99      0.99      1135\n",
      "           2       0.97      0.98      0.98      1032\n",
      "           3       0.98      0.99      0.98      1010\n",
      "           4       0.98      0.98      0.98       982\n",
      "           5       0.99      0.98      0.98       892\n",
      "           6       0.99      0.98      0.98       958\n",
      "           7       0.99      0.92      0.96      1028\n",
      "           8       0.98      0.98      0.98       974\n",
      "           9       0.92      0.99      0.95      1009\n",
      "\n",
      "    accuracy                           0.98     10000\n",
      "   macro avg       0.98      0.98      0.98     10000\n",
      "weighted avg       0.98      0.98      0.98     10000\n",
      "\n",
      "returning : precision, recall, f1, conf_matrix, class_report\n"
     ]
    }
   ],
   "source": [
    "mlp_evaluation = my_mlp_from_x.evaluation(test_loader, device)"
   ]
  },
  {
   "cell_type": "code",
   "execution_count": 7,
   "metadata": {},
   "outputs": [
    {
     "name": "stdout",
     "output_type": "stream",
     "text": [
      "Accuracy: 0.1027\n",
      "Precision: 0.0639\n",
      "Recall: 0.1027\n",
      "F1 Score: 0.0546\n",
      "Confusion Matrix:\n",
      "[[  0 385  35   0   1   0  50 479   0  30]\n",
      " [  0 372  39   0  17   0  80 598   0  29]\n",
      " [  0 525  42   0  13   0  64 373   0  15]\n",
      " [  0 393  40   0  17   0  67 479   0  14]\n",
      " [  0 375  17   0  11   0 141 416   0  22]\n",
      " [  0 337   7   0  23   0  73 426   0  26]\n",
      " [  1 337  21   0   6   0  68 510   0  15]\n",
      " [  0 321  12   0  17   0 117 515   0  46]\n",
      " [  0 405  19   0  28   0  74 425   0  23]\n",
      " [  0 334   4   0  17   0  75 560   0  19]]\n",
      "Classification Report:\n",
      "              precision    recall  f1-score   support\n",
      "\n",
      "           0       0.00      0.00      0.00       980\n",
      "           1       0.10      0.33      0.15      1135\n",
      "           2       0.18      0.04      0.07      1032\n",
      "           3       0.00      0.00      0.00      1010\n",
      "           4       0.07      0.01      0.02       982\n",
      "           5       0.00      0.00      0.00       892\n",
      "           6       0.08      0.07      0.08       958\n",
      "           7       0.11      0.50      0.18      1028\n",
      "           8       0.00      0.00      0.00       974\n",
      "           9       0.08      0.02      0.03      1009\n",
      "\n",
      "    accuracy                           0.10     10000\n",
      "   macro avg       0.06      0.10      0.05     10000\n",
      "weighted avg       0.06      0.10      0.05     10000\n",
      "\n",
      "returning : precision, recall, f1, conf_matrix, class_report\n"
     ]
    },
    {
     "name": "stderr",
     "output_type": "stream",
     "text": [
      "/home/paulm/Bureau/codes/rhc_dataset/my_venv2/lib/python3.10/site-packages/sklearn/metrics/_classification.py:1509: UndefinedMetricWarning: Precision is ill-defined and being set to 0.0 in labels with no predicted samples. Use `zero_division` parameter to control this behavior.\n",
      "  _warn_prf(average, modifier, f\"{metric.capitalize()} is\", len(result))\n",
      "/home/paulm/Bureau/codes/rhc_dataset/my_venv2/lib/python3.10/site-packages/sklearn/metrics/_classification.py:1509: UndefinedMetricWarning: Precision is ill-defined and being set to 0.0 in labels with no predicted samples. Use `zero_division` parameter to control this behavior.\n",
      "  _warn_prf(average, modifier, f\"{metric.capitalize()} is\", len(result))\n",
      "/home/paulm/Bureau/codes/rhc_dataset/my_venv2/lib/python3.10/site-packages/sklearn/metrics/_classification.py:1509: UndefinedMetricWarning: Precision is ill-defined and being set to 0.0 in labels with no predicted samples. Use `zero_division` parameter to control this behavior.\n",
      "  _warn_prf(average, modifier, f\"{metric.capitalize()} is\", len(result))\n",
      "/home/paulm/Bureau/codes/rhc_dataset/my_venv2/lib/python3.10/site-packages/sklearn/metrics/_classification.py:1509: UndefinedMetricWarning: Precision is ill-defined and being set to 0.0 in labels with no predicted samples. Use `zero_division` parameter to control this behavior.\n",
      "  _warn_prf(average, modifier, f\"{metric.capitalize()} is\", len(result))\n"
     ]
    }
   ],
   "source": [
    "mlp_z_evaluation = my_mlp_from_z.evaluation(test_loader, device)\n",
    "\n",
    "\n"
   ]
  },
  {
   "cell_type": "code",
   "execution_count": null,
   "metadata": {},
   "outputs": [],
   "source": []
  },
  {
   "cell_type": "code",
   "execution_count": 8,
   "metadata": {},
   "outputs": [],
   "source": [
    "\n",
    "all_x = []\n",
    "all_y = []\n",
    "all_x_hat = []\n",
    "model.eval()\n",
    "\n",
    "with torch.no_grad():\n",
    "    for data, label in test_loader:\n",
    "        data, label = data.to(device), label.to(device)\n",
    "        x_hat, _ , _, _ = model(data, label)\n",
    "        all_y.extend(label.cpu().numpy())\n",
    "        all_x.extend(data.cpu().numpy())\n",
    "        all_x_hat.extend(x_hat.cpu().numpy())\n",
    "\n",
    "all_x = np.array(all_x)\n",
    "all_y = np.array(all_y)\n",
    "all_x_hat = np.array(all_x_hat)\n"
   ]
  },
  {
   "cell_type": "code",
   "execution_count": 9,
   "metadata": {},
   "outputs": [
    {
     "data": {
      "text/plain": [
       "(10000, 784)"
      ]
     },
     "execution_count": 9,
     "metadata": {},
     "output_type": "execute_result"
    }
   ],
   "source": [
    "all_x_hat.shape\n"
   ]
  },
  {
   "cell_type": "code",
   "execution_count": 10,
   "metadata": {},
   "outputs": [
    {
     "name": "stdout",
     "output_type": "stream",
     "text": [
      "Accuracy: 0.996\n",
      "Precision: 0.9961\n",
      "Recall: 0.9960\n",
      "F1 Score: 0.9960\n",
      "Confusion Matrix:\n",
      "[[ 980    0    0    0    0    0    0    0    0    0]\n",
      " [   0 1135    0    0    0    0    0    0    0    0]\n",
      " [   0    0 1030    1    0    0    0    1    0    0]\n",
      " [   0    0    0 1010    0    0    0    0    0    0]\n",
      " [   0    0    0    0  981    0    0    0    0    1]\n",
      " [   0    0    0    1    0  891    0    0    0    0]\n",
      " [   0    0    0    0    0    0  958    0    0    0]\n",
      " [   0    0    0    0    0    0    0  992    0   36]\n",
      " [   0    0    0    0    0    0    0    0  974    0]\n",
      " [   0    0    0    0    0    0    0    0    0 1009]]\n"
     ]
    }
   ],
   "source": [
    "my_mlp_from_x.eval()\n",
    "\n",
    "with torch.no_grad():\n",
    "    test = torch.from_numpy(all_x_hat).to(device)\n",
    "    # test.detach().numpy()\n",
    "\n",
    "    all_y_hat = my_mlp_from_x.forward(test)\n",
    "\n",
    "\n",
    "    all_y_hat = torch.argmax(all_y_hat, dim=1).cpu().detach().numpy()\n",
    "    accuracy = accuracy_score(all_y, all_y_hat)\n",
    "\n",
    "    print(f\"Accuracy: {accuracy}\")\n",
    "\n",
    "\n",
    "    precision = precision_score(all_y, all_y_hat, average='weighted')\n",
    "    recall = recall_score(all_y, all_y_hat, average='weighted')\n",
    "    f1 = f1_score(all_y, all_y_hat, average='weighted')\n",
    "\n",
    "    print(f'Precision: {precision:.4f}')\n",
    "    print(f'Recall: {recall:.4f}')\n",
    "    print(f'F1 Score: {f1:.4f}')\n",
    "\n",
    "    # Confusion Matrix\n",
    "    conf_matrix = confusion_matrix(all_y, all_y_hat)\n",
    "    print('Confusion Matrix:')\n",
    "    print(conf_matrix)\n",
    "\n",
    "\n",
    "\n"
   ]
  },
  {
   "cell_type": "code",
   "execution_count": null,
   "metadata": {},
   "outputs": [],
   "source": []
  },
  {
   "cell_type": "code",
   "execution_count": null,
   "metadata": {},
   "outputs": [],
   "source": []
  },
  {
   "cell_type": "code",
   "execution_count": null,
   "metadata": {},
   "outputs": [],
   "source": []
  },
  {
   "cell_type": "code",
   "execution_count": 11,
   "metadata": {},
   "outputs": [
    {
     "data": {
      "image/png": "[encoded data removed]",
      "text/plain": [
       "<Figure size 1500x600 with 2 Axes>"
      ]
     },
     "metadata": {},
     "output_type": "display_data"
    },
    {
     "name": "stdout",
     "output_type": "stream",
     "text": [
      "test : end\n"
     ]
    }
   ],
   "source": [
    "\n",
    "######################################  Only for  MNIST data :\n",
    "\n",
    "\n",
    "\n",
    "if not use_rhc_data : \n",
    "    # Visualize reconstructed images and added pixels\n",
    "    model.eval()\n",
    "    original_label = 1\n",
    "    target_label = 3\n",
    "    original_label_tensor = torch.tensor([original_label]).to(device)\n",
    "    target_label_tensor = torch.tensor([target_label]).to(device)\n",
    "    latent_dim = model.fc2_mean.out_features  # Assuming latent_dim is defined by fc2_mean's output size\n",
    "    latent_sample = torch.randn(1, latent_dim).to(device)\n",
    "    original_label_onehot = F.one_hot(original_label_tensor, num_classes=10).float()\n",
    "    target_label_onehot = F.one_hot(target_label_tensor, num_classes=10).float()\n",
    "    combined_input_original = torch.cat((latent_sample, original_label_onehot), dim=1)\n",
    "    with torch.no_grad():\n",
    "        reconstructed_image_original = model.decode(combined_input_original).view(28, 28).cpu().numpy()\n",
    "    combined_input_target = torch.cat((latent_sample, target_label_onehot), dim=1)\n",
    "    with torch.no_grad():\n",
    "        reconstructed_image_target = model.decode(combined_input_target).view(28, 28).cpu().numpy()\n",
    "    pixel_difference = reconstructed_image_target - reconstructed_image_original\n",
    "\n",
    "    # Display images\n",
    "    fig, (ax1, ax2) = plt.subplots(1, 2, figsize=(15, 6))\n",
    "    ax1.imshow(reconstructed_image_original, cmap='gray')\n",
    "    ax1.axis('off')\n",
    "    ax1.set_title(f\"Original Number {original_label}\")\n",
    "    ax2.imshow(reconstructed_image_target, cmap='gray')\n",
    "    ax2.axis('off')\n",
    "    ax2.set_title(f\"Reconstructed Number with Label {target_label}\")\n",
    "    #ax3.imshow(reconstructed_image_target, cmap='gray')\n",
    "    #ax3.imshow(pixel_difference, cmap='Reds', alpha=0.5, vmin=0, vmax=np.max(pixel_difference))\n",
    "    #ax3.axis('off')\n",
    "    #ax3.set_title(f\"Added Pixels (in red)\")\n",
    "    plt.show()\n",
    "\n",
    "\n",
    "    print(\"test : end\")"
   ]
  }
 ],
 "metadata": {
  "kernelspec": {
   "display_name": "my_venv2",
   "language": "python",
   "name": "python3"
  },
  "language_info": {
   "codemirror_mode": {
    "name": "ipython",
    "version": 3
   },
   "file_extension": ".py",
   "mimetype": "text/x-python",
   "name": "python",
   "nbconvert_exporter": "python",
   "pygments_lexer": "ipython3",
   "version": "3.10.12"
  }
 },
 "nbformat": 4,
 "nbformat_minor": 2
}
